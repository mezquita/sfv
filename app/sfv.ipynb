{
 "cells": [
  {
   "cell_type": "code",
   "execution_count": 91,
   "metadata": {},
   "outputs": [
    {
     "name": "stdout",
     "output_type": "stream",
     "text": "Populating the interactive namespace from numpy and matplotlib\n"
    }
   ],
   "source": [
    "import os,sys,re\n",
    "import networkx as nx\n",
    "import pandas as pd\n",
    "import numpy as np \n",
    "import matplotlib.pyplot as plt\n",
    "#plt.xkcd()\n",
    "import random\n",
    "from datetime  import datetime,timedelta\n",
    "import itertools\n",
    "# from sympy import *\n",
    "from more_itertools import chunked\n",
    "# print(sys.path)\n",
    "from PIL import Image\n",
    "# os.chdir(\"/Users/miyachi.kei/workspace/work\")\n",
    "from bs4 import BeautifulSoup\n",
    "\n",
    "\n",
    "%pylab inline --no-import-all"
   ]
  },
  {
   "cell_type": "code",
   "execution_count": 92,
   "metadata": {},
   "outputs": [],
   "source": [
    "RATE_YURI =5.2\n",
    "RATE_FURI =4.8"
   ]
  },
  {
   "cell_type": "code",
   "execution_count": 93,
   "metadata": {},
   "outputs": [],
   "source": [
    "names = {\n",
    "\"urn\": \"urien\",\n",
    "\"veg\": \"vega\",\n",
    "\"dsm\": \"dalsim\",\n",
    "\"hnd\": \"honda\",\n",
    "\"blk\": \"blanka\",\n",
    "\"bsn\": \"bison\",\n",
    "\"blr\": \"balrog\",\n",
    "\"fan\": \"fang\",\n",
    "\"brd\": \"bardy\",\n",
    "\"krn\": \"karin\",\n",
    "\"flk\": \"falke\",\n",
    "\"abg\": \"abigail\",\n",
    "\"gul\": \"guile\",\n",
    "\"alx\": \"alex\",\n",
    "\"ed\":  \"ed\",\n",
    "\"g\":   \"g\",\n",
    "\"kln\": \"kolin\",\n",
    "\"cdy\": \"cody\",\n",
    "\"zgf\": \"zangief\",\n",
    "\"ibk\": \"ibuki\",\n",
    "\"zku\": \"zeku\",\n",
    "\"ncl\": \"necali\",\n",
    "\"lar\": \"laura\",\n",
    "\"nsh\": \"nash\",\n",
    "\"rmk\": \"mika\",\n",
    "\"ken\": \"ken\",\n",
    "\"rsd\": \"rashid\",\n",
    "\"psn\": \"poison\",\n",
    "\"gok\": \"gouki\",\n",
    "\"cnl\": \"chunli\",\n",
    "\"ryu\": \"ryu\",\n",
    "\"sgt\": \"sagat\",\n",
    "\"jri\": \"juri\",\n",
    "\"cmy\": \"cammy\",\n",
    "\"skr\": \"sakura\",\n",
    "\"mnt\": \"menat\",\n",
    "\"kge\": \"kage\",\n",
    "\"lca\": \"lucia\",\n",
    "\"gil\": \"gill\",\n",
    "}"
   ]
  },
  {
   "cell_type": "code",
   "execution_count": 94,
   "metadata": {},
   "outputs": [],
   "source": [
    "# html = None\n",
    "# with open(\"./stats.html\") as f:\n",
    "#     html = f.read()\n",
    "#     # 手作業でやったがクリーニングをここでやる\n",
    "\n",
    "\n",
    "# for f,t in names.items():\n",
    "#     html = html.replace(f,t)\n",
    "pd.options.display.float_format = '{:.4f}'.format\n"
   ]
  },
  {
   "cell_type": "code",
   "execution_count": 95,
   "metadata": {},
   "outputs": [],
   "source": [
    "import requests\n",
    "url=\"https://game.capcom.com/cfn/sfv/stats/dia/\"\n",
    "r = requests.get(url)\n",
    "raw_html = r.text\n"
   ]
  },
  {
   "cell_type": "code",
   "execution_count": 96,
   "metadata": {},
   "outputs": [],
   "source": [
    "def get_icons(soup):\n",
    "    import re\n",
    "    images = {}\n",
    "    for x in soup.find_all('img'):\n",
    "        m = re.search(\"(https.*\\/s\\/)([a-zA-Z]+)(\\.png\\?h=[a-zA-Z0-9]+)\", x['src'])\n",
    "        if m:\n",
    "            a,b,c = m.groups()\n",
    "            images[names[b]] = a+b+c\n",
    "\n",
    "    return images        \n",
    "\n",
    "def create_clean_table(soup):\n",
    "    # 不要な要素を削除\n",
    "    for p in soup.select(\"p.total\"):\n",
    "        p.decompose()\n",
    "\n",
    "    # imgタグのある箇所を名前に変更\n",
    "    for x in soup.find_all(\"figure\"):\n",
    "        m = re.search(\"https.*\\/s\\/([a-zA-Z]+)\\.png\\?h=\", x.find(\"img\")[\"src\"])\n",
    "        if m:\n",
    "            a = m.group(1)\n",
    "            x.parent.string = a\n",
    "    # \"-\" -> 0\n",
    "    for x in soup.select(\"td.off\"):\n",
    "        x.string=\"0\"\n",
    "            \n",
    "    html = str(soup)\n",
    "    for f,t in names.items():\n",
    "        html = html.replace(f,t)\n",
    "    \n",
    "    return html\n",
    "\n",
    "def get_period(html):\n",
    "    soup = BeautifulSoup(html, \"lxml\")\n",
    "    return soup.select_one(\"p.selectData\").string\n",
    "\n",
    "period = get_period(raw_html)\n",
    "soup = BeautifulSoup(raw_html, \"lxml\").table\n",
    "images = get_icons(soup)\n",
    "html = create_clean_table(soup)\n"
   ]
  },
  {
   "cell_type": "code",
   "execution_count": null,
   "metadata": {},
   "outputs": [],
   "source": []
  },
  {
   "cell_type": "code",
   "execution_count": null,
   "metadata": {},
   "outputs": [],
   "source": []
  },
  {
   "cell_type": "code",
   "execution_count": 97,
   "metadata": {},
   "outputs": [],
   "source": [
    "df = pd.io.html.read_html(html)[0]\n",
    "# column name change\n",
    "df = df.rename(columns={'平均': 'name'})\n",
    "df = df.set_index('name')\n",
    "# 値をfloatに揃える\n",
    "df = df.replace(\"-\",0.0)\n",
    "df = df.astype('float64')\n"
   ]
  },
  {
   "cell_type": "code",
   "execution_count": 98,
   "metadata": {},
   "outputs": [
    {
     "data": {
      "text/html": "<div>\n<style scoped>\n    .dataframe tbody tr th:only-of-type {\n        vertical-align: middle;\n    }\n\n    .dataframe tbody tr th {\n        vertical-align: top;\n    }\n\n    .dataframe thead th {\n        text-align: right;\n    }\n</style>\n<table border=\"1\" class=\"dataframe\">\n  <thead>\n    <tr style=\"text-align: right;\">\n      <th></th>\n      <th>honda</th>\n      <th>vega</th>\n      <th>urien</th>\n      <th>balrog</th>\n      <th>dalsim</th>\n      <th>blanka</th>\n      <th>fang</th>\n      <th>bison</th>\n      <th>bardy</th>\n      <th>abigail</th>\n      <th>...</th>\n      <th>juri</th>\n      <th>lucia</th>\n      <th>mika</th>\n      <th>gouki</th>\n      <th>sakura</th>\n      <th>cammy</th>\n      <th>menat</th>\n      <th>kage</th>\n      <th>rashid</th>\n      <th>gill</th>\n    </tr>\n    <tr>\n      <th>name</th>\n      <th></th>\n      <th></th>\n      <th></th>\n      <th></th>\n      <th></th>\n      <th></th>\n      <th></th>\n      <th></th>\n      <th></th>\n      <th></th>\n      <th></th>\n      <th></th>\n      <th></th>\n      <th></th>\n      <th></th>\n      <th></th>\n      <th></th>\n      <th></th>\n      <th></th>\n      <th></th>\n      <th></th>\n    </tr>\n  </thead>\n  <tbody>\n    <tr>\n      <th>honda</th>\n      <td>0.0000</td>\n      <td>5.0590</td>\n      <td>4.9620</td>\n      <td>4.9330</td>\n      <td>6.0770</td>\n      <td>5.6250</td>\n      <td>4.7870</td>\n      <td>5.8240</td>\n      <td>5.1970</td>\n      <td>4.8240</td>\n      <td>...</td>\n      <td>6.1640</td>\n      <td>5.9100</td>\n      <td>5.6560</td>\n      <td>5.5150</td>\n      <td>5.6110</td>\n      <td>6.2060</td>\n      <td>6.1890</td>\n      <td>5.7800</td>\n      <td>6.0900</td>\n      <td>6.5590</td>\n    </tr>\n    <tr>\n      <th>vega</th>\n      <td>4.9410</td>\n      <td>0.0000</td>\n      <td>5.0020</td>\n      <td>4.7280</td>\n      <td>5.2060</td>\n      <td>4.7960</td>\n      <td>5.3220</td>\n      <td>5.4610</td>\n      <td>5.0800</td>\n      <td>5.1660</td>\n      <td>...</td>\n      <td>5.8110</td>\n      <td>5.9050</td>\n      <td>5.3020</td>\n      <td>5.7120</td>\n      <td>5.8360</td>\n      <td>5.7340</td>\n      <td>6.2850</td>\n      <td>5.9950</td>\n      <td>5.6080</td>\n      <td>6.5210</td>\n    </tr>\n    <tr>\n      <th>urien</th>\n      <td>5.0380</td>\n      <td>4.9980</td>\n      <td>0.0000</td>\n      <td>5.0620</td>\n      <td>5.2600</td>\n      <td>5.2710</td>\n      <td>4.7140</td>\n      <td>5.1970</td>\n      <td>5.5530</td>\n      <td>5.4970</td>\n      <td>...</td>\n      <td>5.6920</td>\n      <td>5.7630</td>\n      <td>5.5850</td>\n      <td>5.5740</td>\n      <td>5.8830</td>\n      <td>5.8040</td>\n      <td>5.8960</td>\n      <td>5.9340</td>\n      <td>5.7210</td>\n      <td>6.3250</td>\n    </tr>\n    <tr>\n      <th>balrog</th>\n      <td>5.0670</td>\n      <td>5.2720</td>\n      <td>4.9380</td>\n      <td>0.0000</td>\n      <td>5.7220</td>\n      <td>5.1440</td>\n      <td>5.2770</td>\n      <td>4.9650</td>\n      <td>5.0250</td>\n      <td>5.9840</td>\n      <td>...</td>\n      <td>5.8200</td>\n      <td>5.9060</td>\n      <td>5.5690</td>\n      <td>5.5600</td>\n      <td>5.6230</td>\n      <td>5.6070</td>\n      <td>6.1230</td>\n      <td>5.9320</td>\n      <td>5.9470</td>\n      <td>6.5270</td>\n    </tr>\n    <tr>\n      <th>dalsim</th>\n      <td>3.9230</td>\n      <td>4.7940</td>\n      <td>4.7400</td>\n      <td>4.2780</td>\n      <td>0.0000</td>\n      <td>4.6350</td>\n      <td>4.9130</td>\n      <td>4.5760</td>\n      <td>5.2330</td>\n      <td>5.0030</td>\n      <td>...</td>\n      <td>5.3350</td>\n      <td>5.6440</td>\n      <td>5.4310</td>\n      <td>5.8530</td>\n      <td>5.9370</td>\n      <td>5.4800</td>\n      <td>5.7470</td>\n      <td>5.6690</td>\n      <td>5.1360</td>\n      <td>6.1760</td>\n    </tr>\n  </tbody>\n</table>\n<p>5 rows × 39 columns</p>\n</div>",
      "text/plain": "        honda   vega  urien  balrog  dalsim  blanka   fang  bison  bardy  \\\nname                                                                       \nhonda  0.0000 5.0590 4.9620  4.9330  6.0770  5.6250 4.7870 5.8240 5.1970   \nvega   4.9410 0.0000 5.0020  4.7280  5.2060  4.7960 5.3220 5.4610 5.0800   \nurien  5.0380 4.9980 0.0000  5.0620  5.2600  5.2710 4.7140 5.1970 5.5530   \nbalrog 5.0670 5.2720 4.9380  0.0000  5.7220  5.1440 5.2770 4.9650 5.0250   \ndalsim 3.9230 4.7940 4.7400  4.2780  0.0000  4.6350 4.9130 4.5760 5.2330   \n\n        abigail  ...   juri  lucia   mika  gouki  sakura  cammy  menat   kage  \\\nname             ...                                                            \nhonda    4.8240  ... 6.1640 5.9100 5.6560 5.5150  5.6110 6.2060 6.1890 5.7800   \nvega     5.1660  ... 5.8110 5.9050 5.3020 5.7120  5.8360 5.7340 6.2850 5.9950   \nurien    5.4970  ... 5.6920 5.7630 5.5850 5.5740  5.8830 5.8040 5.8960 5.9340   \nbalrog   5.9840  ... 5.8200 5.9060 5.5690 5.5600  5.6230 5.6070 6.1230 5.9320   \ndalsim   5.0030  ... 5.3350 5.6440 5.4310 5.8530  5.9370 5.4800 5.7470 5.6690   \n\n        rashid   gill  \nname                   \nhonda   6.0900 6.5590  \nvega    5.6080 6.5210  \nurien   5.7210 6.3250  \nbalrog  5.9470 6.5270  \ndalsim  5.1360 6.1760  \n\n[5 rows x 39 columns]"
     },
     "execution_count": 98,
     "metadata": {},
     "output_type": "execute_result"
    }
   ],
   "source": [
    "df.head()"
   ]
  },
  {
   "cell_type": "code",
   "execution_count": 99,
   "metadata": {},
   "outputs": [],
   "source": [
    "# ダイアグラムの有利と不利のリストを作る\n",
    "dia = {}\n",
    "for k ,v in df.iterrows():\n",
    "    # 名前の列を除外\n",
    "    tmp = v[1:]\n",
    "    # 0（自分）を除外\n",
    "    yuri = tmp[(tmp!=0)&(tmp>RATE_YURI)] # 有利という以上は50%じゃ困る\n",
    "    yuri = yuri.sort_values(ascending=False)\n",
    "    furi = tmp[(tmp!=0)&(tmp<RATE_FURI)] # 49%切るなら不利かなという気持ち\n",
    "    furi = furi.sort_values()\n",
    "    dia[k] = {\n",
    "        \"yuri\": yuri,\n",
    "        \"furi\": furi,\n",
    "    }\n",
    "\n"
   ]
  },
  {
   "cell_type": "code",
   "execution_count": null,
   "metadata": {},
   "outputs": [],
   "source": []
  },
  {
   "cell_type": "code",
   "execution_count": null,
   "metadata": {},
   "outputs": [],
   "source": []
  },
  {
   "cell_type": "code",
   "execution_count": null,
   "metadata": {},
   "outputs": [],
   "source": []
  },
  {
   "cell_type": "code",
   "execution_count": 100,
   "metadata": {},
   "outputs": [],
   "source": [
    "def create_recommend(df, dia, my):\n",
    "    recommend = {}\n",
    "    furi = set(dia[my][\"furi\"].keys())\n",
    "    print(furi)\n",
    "    for name, d in dia.items():\n",
    "        tmp = furi & set(d[\"yuri\"].keys())\n",
    "        if not tmp:\n",
    "            continue\n",
    "        \n",
    "        for t in tmp:\n",
    "            recommend[name] = {t:df.loc[name,t] for t in tmp} # tmp # df.loc[name,t]\n",
    "    return recommend"
   ]
  },
  {
   "cell_type": "code",
   "execution_count": 101,
   "metadata": {},
   "outputs": [],
   "source": [
    "yuri = df[(df!=0)&(df>RATE_YURI)] # 有利という以上は50%じゃ困る\n",
    "furi = df[(df!=0)&(df<RATE_FURI)] # 49%切るなら不利かなという気持ち"
   ]
  },
  {
   "cell_type": "code",
   "execution_count": 102,
   "metadata": {},
   "outputs": [],
   "source": [
    "# いっさい該当ない行を除外\n",
    "# yuri = yuri.dropna(how='all')\n",
    "# furi = furi.dropna(how='all')"
   ]
  },
  {
   "cell_type": "code",
   "execution_count": 103,
   "metadata": {},
   "outputs": [
    {
     "data": {
      "text/html": "<div>\n<style scoped>\n    .dataframe tbody tr th:only-of-type {\n        vertical-align: middle;\n    }\n\n    .dataframe tbody tr th {\n        vertical-align: top;\n    }\n\n    .dataframe thead th {\n        text-align: right;\n    }\n</style>\n<table border=\"1\" class=\"dataframe\">\n  <thead>\n    <tr style=\"text-align: right;\">\n      <th></th>\n      <th>honda</th>\n      <th>vega</th>\n      <th>urien</th>\n      <th>balrog</th>\n      <th>dalsim</th>\n      <th>blanka</th>\n      <th>fang</th>\n      <th>bison</th>\n      <th>bardy</th>\n      <th>abigail</th>\n      <th>...</th>\n      <th>juri</th>\n      <th>lucia</th>\n      <th>mika</th>\n      <th>gouki</th>\n      <th>sakura</th>\n      <th>cammy</th>\n      <th>menat</th>\n      <th>kage</th>\n      <th>rashid</th>\n      <th>gill</th>\n    </tr>\n    <tr>\n      <th>name</th>\n      <th></th>\n      <th></th>\n      <th></th>\n      <th></th>\n      <th></th>\n      <th></th>\n      <th></th>\n      <th></th>\n      <th></th>\n      <th></th>\n      <th></th>\n      <th></th>\n      <th></th>\n      <th></th>\n      <th></th>\n      <th></th>\n      <th></th>\n      <th></th>\n      <th></th>\n      <th></th>\n      <th></th>\n    </tr>\n  </thead>\n  <tbody>\n    <tr>\n      <th>honda</th>\n      <td>0.0000</td>\n      <td>5.0590</td>\n      <td>4.9620</td>\n      <td>4.9330</td>\n      <td>6.0770</td>\n      <td>5.6250</td>\n      <td>4.7870</td>\n      <td>5.8240</td>\n      <td>5.1970</td>\n      <td>4.8240</td>\n      <td>...</td>\n      <td>6.1640</td>\n      <td>5.9100</td>\n      <td>5.6560</td>\n      <td>5.5150</td>\n      <td>5.6110</td>\n      <td>6.2060</td>\n      <td>6.1890</td>\n      <td>5.7800</td>\n      <td>6.0900</td>\n      <td>6.5590</td>\n    </tr>\n    <tr>\n      <th>vega</th>\n      <td>4.9410</td>\n      <td>0.0000</td>\n      <td>5.0020</td>\n      <td>4.7280</td>\n      <td>5.2060</td>\n      <td>4.7960</td>\n      <td>5.3220</td>\n      <td>5.4610</td>\n      <td>5.0800</td>\n      <td>5.1660</td>\n      <td>...</td>\n      <td>5.8110</td>\n      <td>5.9050</td>\n      <td>5.3020</td>\n      <td>5.7120</td>\n      <td>5.8360</td>\n      <td>5.7340</td>\n      <td>6.2850</td>\n      <td>5.9950</td>\n      <td>5.6080</td>\n      <td>6.5210</td>\n    </tr>\n    <tr>\n      <th>urien</th>\n      <td>5.0380</td>\n      <td>4.9980</td>\n      <td>0.0000</td>\n      <td>5.0620</td>\n      <td>5.2600</td>\n      <td>5.2710</td>\n      <td>4.7140</td>\n      <td>5.1970</td>\n      <td>5.5530</td>\n      <td>5.4970</td>\n      <td>...</td>\n      <td>5.6920</td>\n      <td>5.7630</td>\n      <td>5.5850</td>\n      <td>5.5740</td>\n      <td>5.8830</td>\n      <td>5.8040</td>\n      <td>5.8960</td>\n      <td>5.9340</td>\n      <td>5.7210</td>\n      <td>6.3250</td>\n    </tr>\n    <tr>\n      <th>balrog</th>\n      <td>5.0670</td>\n      <td>5.2720</td>\n      <td>4.9380</td>\n      <td>0.0000</td>\n      <td>5.7220</td>\n      <td>5.1440</td>\n      <td>5.2770</td>\n      <td>4.9650</td>\n      <td>5.0250</td>\n      <td>5.9840</td>\n      <td>...</td>\n      <td>5.8200</td>\n      <td>5.9060</td>\n      <td>5.5690</td>\n      <td>5.5600</td>\n      <td>5.6230</td>\n      <td>5.6070</td>\n      <td>6.1230</td>\n      <td>5.9320</td>\n      <td>5.9470</td>\n      <td>6.5270</td>\n    </tr>\n    <tr>\n      <th>dalsim</th>\n      <td>3.9230</td>\n      <td>4.7940</td>\n      <td>4.7400</td>\n      <td>4.2780</td>\n      <td>0.0000</td>\n      <td>4.6350</td>\n      <td>4.9130</td>\n      <td>4.5760</td>\n      <td>5.2330</td>\n      <td>5.0030</td>\n      <td>...</td>\n      <td>5.3350</td>\n      <td>5.6440</td>\n      <td>5.4310</td>\n      <td>5.8530</td>\n      <td>5.9370</td>\n      <td>5.4800</td>\n      <td>5.7470</td>\n      <td>5.6690</td>\n      <td>5.1360</td>\n      <td>6.1760</td>\n    </tr>\n  </tbody>\n</table>\n<p>5 rows × 39 columns</p>\n</div>",
      "text/plain": "        honda   vega  urien  balrog  dalsim  blanka   fang  bison  bardy  \\\nname                                                                       \nhonda  0.0000 5.0590 4.9620  4.9330  6.0770  5.6250 4.7870 5.8240 5.1970   \nvega   4.9410 0.0000 5.0020  4.7280  5.2060  4.7960 5.3220 5.4610 5.0800   \nurien  5.0380 4.9980 0.0000  5.0620  5.2600  5.2710 4.7140 5.1970 5.5530   \nbalrog 5.0670 5.2720 4.9380  0.0000  5.7220  5.1440 5.2770 4.9650 5.0250   \ndalsim 3.9230 4.7940 4.7400  4.2780  0.0000  4.6350 4.9130 4.5760 5.2330   \n\n        abigail  ...   juri  lucia   mika  gouki  sakura  cammy  menat   kage  \\\nname             ...                                                            \nhonda    4.8240  ... 6.1640 5.9100 5.6560 5.5150  5.6110 6.2060 6.1890 5.7800   \nvega     5.1660  ... 5.8110 5.9050 5.3020 5.7120  5.8360 5.7340 6.2850 5.9950   \nurien    5.4970  ... 5.6920 5.7630 5.5850 5.5740  5.8830 5.8040 5.8960 5.9340   \nbalrog   5.9840  ... 5.8200 5.9060 5.5690 5.5600  5.6230 5.6070 6.1230 5.9320   \ndalsim   5.0030  ... 5.3350 5.6440 5.4310 5.8530  5.9370 5.4800 5.7470 5.6690   \n\n        rashid   gill  \nname                   \nhonda   6.0900 6.5590  \nvega    5.6080 6.5210  \nurien   5.7210 6.3250  \nbalrog  5.9470 6.5270  \ndalsim  5.1360 6.1760  \n\n[5 rows x 39 columns]"
     },
     "execution_count": 103,
     "metadata": {},
     "output_type": "execute_result"
    }
   ],
   "source": [
    "df.head()"
   ]
  },
  {
   "cell_type": "code",
   "execution_count": 104,
   "metadata": {},
   "outputs": [
    {
     "data": {
      "text/html": "<div>\n<style scoped>\n    .dataframe tbody tr th:only-of-type {\n        vertical-align: middle;\n    }\n\n    .dataframe tbody tr th {\n        vertical-align: top;\n    }\n\n    .dataframe thead th {\n        text-align: right;\n    }\n</style>\n<table border=\"1\" class=\"dataframe\">\n  <thead>\n    <tr style=\"text-align: right;\">\n      <th></th>\n      <th>honda</th>\n      <th>vega</th>\n      <th>urien</th>\n      <th>balrog</th>\n      <th>dalsim</th>\n      <th>blanka</th>\n      <th>fang</th>\n      <th>bison</th>\n      <th>bardy</th>\n      <th>abigail</th>\n      <th>...</th>\n      <th>juri</th>\n      <th>lucia</th>\n      <th>mika</th>\n      <th>gouki</th>\n      <th>sakura</th>\n      <th>cammy</th>\n      <th>menat</th>\n      <th>kage</th>\n      <th>rashid</th>\n      <th>gill</th>\n    </tr>\n    <tr>\n      <th>name</th>\n      <th></th>\n      <th></th>\n      <th></th>\n      <th></th>\n      <th></th>\n      <th></th>\n      <th></th>\n      <th></th>\n      <th></th>\n      <th></th>\n      <th></th>\n      <th></th>\n      <th></th>\n      <th></th>\n      <th></th>\n      <th></th>\n      <th></th>\n      <th></th>\n      <th></th>\n      <th></th>\n      <th></th>\n    </tr>\n  </thead>\n  <tbody>\n    <tr>\n      <th>honda</th>\n      <td>nan</td>\n      <td>nan</td>\n      <td>nan</td>\n      <td>nan</td>\n      <td>6.0770</td>\n      <td>5.6250</td>\n      <td>nan</td>\n      <td>5.8240</td>\n      <td>nan</td>\n      <td>nan</td>\n      <td>...</td>\n      <td>6.1640</td>\n      <td>5.9100</td>\n      <td>5.6560</td>\n      <td>5.5150</td>\n      <td>5.6110</td>\n      <td>6.2060</td>\n      <td>6.1890</td>\n      <td>5.7800</td>\n      <td>6.0900</td>\n      <td>6.5590</td>\n    </tr>\n    <tr>\n      <th>vega</th>\n      <td>nan</td>\n      <td>nan</td>\n      <td>nan</td>\n      <td>nan</td>\n      <td>5.2060</td>\n      <td>nan</td>\n      <td>5.3220</td>\n      <td>5.4610</td>\n      <td>nan</td>\n      <td>nan</td>\n      <td>...</td>\n      <td>5.8110</td>\n      <td>5.9050</td>\n      <td>5.3020</td>\n      <td>5.7120</td>\n      <td>5.8360</td>\n      <td>5.7340</td>\n      <td>6.2850</td>\n      <td>5.9950</td>\n      <td>5.6080</td>\n      <td>6.5210</td>\n    </tr>\n    <tr>\n      <th>urien</th>\n      <td>nan</td>\n      <td>nan</td>\n      <td>nan</td>\n      <td>nan</td>\n      <td>5.2600</td>\n      <td>5.2710</td>\n      <td>nan</td>\n      <td>nan</td>\n      <td>5.5530</td>\n      <td>5.4970</td>\n      <td>...</td>\n      <td>5.6920</td>\n      <td>5.7630</td>\n      <td>5.5850</td>\n      <td>5.5740</td>\n      <td>5.8830</td>\n      <td>5.8040</td>\n      <td>5.8960</td>\n      <td>5.9340</td>\n      <td>5.7210</td>\n      <td>6.3250</td>\n    </tr>\n    <tr>\n      <th>balrog</th>\n      <td>nan</td>\n      <td>5.2720</td>\n      <td>nan</td>\n      <td>nan</td>\n      <td>5.7220</td>\n      <td>nan</td>\n      <td>5.2770</td>\n      <td>nan</td>\n      <td>nan</td>\n      <td>5.9840</td>\n      <td>...</td>\n      <td>5.8200</td>\n      <td>5.9060</td>\n      <td>5.5690</td>\n      <td>5.5600</td>\n      <td>5.6230</td>\n      <td>5.6070</td>\n      <td>6.1230</td>\n      <td>5.9320</td>\n      <td>5.9470</td>\n      <td>6.5270</td>\n    </tr>\n    <tr>\n      <th>dalsim</th>\n      <td>nan</td>\n      <td>nan</td>\n      <td>nan</td>\n      <td>nan</td>\n      <td>nan</td>\n      <td>nan</td>\n      <td>nan</td>\n      <td>nan</td>\n      <td>5.2330</td>\n      <td>nan</td>\n      <td>...</td>\n      <td>5.3350</td>\n      <td>5.6440</td>\n      <td>5.4310</td>\n      <td>5.8530</td>\n      <td>5.9370</td>\n      <td>5.4800</td>\n      <td>5.7470</td>\n      <td>5.6690</td>\n      <td>nan</td>\n      <td>6.1760</td>\n    </tr>\n    <tr>\n      <th>blanka</th>\n      <td>nan</td>\n      <td>5.2040</td>\n      <td>nan</td>\n      <td>nan</td>\n      <td>5.3650</td>\n      <td>nan</td>\n      <td>nan</td>\n      <td>5.2660</td>\n      <td>nan</td>\n      <td>nan</td>\n      <td>...</td>\n      <td>5.5280</td>\n      <td>5.4640</td>\n      <td>5.5010</td>\n      <td>5.7000</td>\n      <td>5.6080</td>\n      <td>5.5830</td>\n      <td>6.2410</td>\n      <td>5.7910</td>\n      <td>5.6430</td>\n      <td>6.4380</td>\n    </tr>\n    <tr>\n      <th>fang</th>\n      <td>5.2130</td>\n      <td>nan</td>\n      <td>5.2860</td>\n      <td>nan</td>\n      <td>nan</td>\n      <td>nan</td>\n      <td>nan</td>\n      <td>5.3110</td>\n      <td>nan</td>\n      <td>5.2290</td>\n      <td>...</td>\n      <td>5.5270</td>\n      <td>5.5900</td>\n      <td>5.5170</td>\n      <td>5.4880</td>\n      <td>5.6130</td>\n      <td>5.4050</td>\n      <td>5.8370</td>\n      <td>5.4720</td>\n      <td>nan</td>\n      <td>6.5200</td>\n    </tr>\n    <tr>\n      <th>bison</th>\n      <td>nan</td>\n      <td>nan</td>\n      <td>nan</td>\n      <td>nan</td>\n      <td>5.4240</td>\n      <td>nan</td>\n      <td>nan</td>\n      <td>nan</td>\n      <td>nan</td>\n      <td>nan</td>\n      <td>...</td>\n      <td>5.5840</td>\n      <td>5.7690</td>\n      <td>5.3820</td>\n      <td>5.4340</td>\n      <td>5.6950</td>\n      <td>5.6410</td>\n      <td>5.9190</td>\n      <td>5.6470</td>\n      <td>5.7440</td>\n      <td>6.2180</td>\n    </tr>\n    <tr>\n      <th>bardy</th>\n      <td>nan</td>\n      <td>nan</td>\n      <td>nan</td>\n      <td>nan</td>\n      <td>nan</td>\n      <td>nan</td>\n      <td>nan</td>\n      <td>5.2770</td>\n      <td>nan</td>\n      <td>nan</td>\n      <td>...</td>\n      <td>5.5520</td>\n      <td>5.3980</td>\n      <td>5.3770</td>\n      <td>5.4220</td>\n      <td>5.2740</td>\n      <td>5.5550</td>\n      <td>5.3850</td>\n      <td>5.7760</td>\n      <td>5.3160</td>\n      <td>5.9230</td>\n    </tr>\n    <tr>\n      <th>abigail</th>\n      <td>nan</td>\n      <td>nan</td>\n      <td>nan</td>\n      <td>nan</td>\n      <td>nan</td>\n      <td>nan</td>\n      <td>nan</td>\n      <td>nan</td>\n      <td>5.3500</td>\n      <td>nan</td>\n      <td>...</td>\n      <td>5.4300</td>\n      <td>nan</td>\n      <td>5.6450</td>\n      <td>5.2230</td>\n      <td>nan</td>\n      <td>5.8420</td>\n      <td>5.9390</td>\n      <td>5.5140</td>\n      <td>nan</td>\n      <td>6.0390</td>\n    </tr>\n    <tr>\n      <th>guile</th>\n      <td>nan</td>\n      <td>nan</td>\n      <td>nan</td>\n      <td>nan</td>\n      <td>nan</td>\n      <td>nan</td>\n      <td>nan</td>\n      <td>nan</td>\n      <td>nan</td>\n      <td>nan</td>\n      <td>...</td>\n      <td>5.2810</td>\n      <td>5.4130</td>\n      <td>5.3310</td>\n      <td>5.4160</td>\n      <td>5.6340</td>\n      <td>5.4330</td>\n      <td>5.2630</td>\n      <td>5.4420</td>\n      <td>5.8020</td>\n      <td>6.2000</td>\n    </tr>\n    <tr>\n      <th>ed</th>\n      <td>nan</td>\n      <td>nan</td>\n      <td>nan</td>\n      <td>nan</td>\n      <td>nan</td>\n      <td>nan</td>\n      <td>nan</td>\n      <td>nan</td>\n      <td>nan</td>\n      <td>5.4090</td>\n      <td>...</td>\n      <td>5.4410</td>\n      <td>5.5810</td>\n      <td>5.6610</td>\n      <td>5.3420</td>\n      <td>5.4610</td>\n      <td>5.7080</td>\n      <td>5.8780</td>\n      <td>5.6510</td>\n      <td>5.8350</td>\n      <td>5.9460</td>\n    </tr>\n    <tr>\n      <th>falke</th>\n      <td>nan</td>\n      <td>nan</td>\n      <td>nan</td>\n      <td>nan</td>\n      <td>nan</td>\n      <td>nan</td>\n      <td>nan</td>\n      <td>nan</td>\n      <td>nan</td>\n      <td>nan</td>\n      <td>...</td>\n      <td>5.2700</td>\n      <td>5.2670</td>\n      <td>5.3600</td>\n      <td>5.3160</td>\n      <td>5.5140</td>\n      <td>5.7090</td>\n      <td>5.7080</td>\n      <td>5.5950</td>\n      <td>5.2290</td>\n      <td>6.0490</td>\n    </tr>\n    <tr>\n      <th>alex</th>\n      <td>nan</td>\n      <td>nan</td>\n      <td>nan</td>\n      <td>nan</td>\n      <td>nan</td>\n      <td>nan</td>\n      <td>nan</td>\n      <td>nan</td>\n      <td>nan</td>\n      <td>nan</td>\n      <td>...</td>\n      <td>5.4450</td>\n      <td>5.3030</td>\n      <td>5.2290</td>\n      <td>5.4100</td>\n      <td>nan</td>\n      <td>5.5040</td>\n      <td>6.0200</td>\n      <td>5.5060</td>\n      <td>nan</td>\n      <td>6.0900</td>\n    </tr>\n    <tr>\n      <th>necali</th>\n      <td>nan</td>\n      <td>nan</td>\n      <td>nan</td>\n      <td>nan</td>\n      <td>nan</td>\n      <td>nan</td>\n      <td>nan</td>\n      <td>nan</td>\n      <td>nan</td>\n      <td>nan</td>\n      <td>...</td>\n      <td>nan</td>\n      <td>nan</td>\n      <td>5.3630</td>\n      <td>5.3370</td>\n      <td>5.4320</td>\n      <td>5.3460</td>\n      <td>5.5280</td>\n      <td>5.4300</td>\n      <td>5.5370</td>\n      <td>5.9770</td>\n    </tr>\n    <tr>\n      <th>cody</th>\n      <td>nan</td>\n      <td>nan</td>\n      <td>nan</td>\n      <td>nan</td>\n      <td>nan</td>\n      <td>nan</td>\n      <td>nan</td>\n      <td>nan</td>\n      <td>nan</td>\n      <td>nan</td>\n      <td>...</td>\n      <td>5.5030</td>\n      <td>5.3670</td>\n      <td>5.5980</td>\n      <td>nan</td>\n      <td>5.4730</td>\n      <td>5.6660</td>\n      <td>5.2630</td>\n      <td>5.5500</td>\n      <td>5.5080</td>\n      <td>6.0390</td>\n    </tr>\n    <tr>\n      <th>zangief</th>\n      <td>nan</td>\n      <td>nan</td>\n      <td>nan</td>\n      <td>nan</td>\n      <td>nan</td>\n      <td>nan</td>\n      <td>nan</td>\n      <td>5.3730</td>\n      <td>nan</td>\n      <td>nan</td>\n      <td>...</td>\n      <td>5.3900</td>\n      <td>nan</td>\n      <td>5.6110</td>\n      <td>5.5690</td>\n      <td>nan</td>\n      <td>5.5240</td>\n      <td>nan</td>\n      <td>5.6760</td>\n      <td>5.3800</td>\n      <td>5.5640</td>\n    </tr>\n    <tr>\n      <th>nash</th>\n      <td>nan</td>\n      <td>nan</td>\n      <td>nan</td>\n      <td>nan</td>\n      <td>nan</td>\n      <td>nan</td>\n      <td>nan</td>\n      <td>nan</td>\n      <td>nan</td>\n      <td>nan</td>\n      <td>...</td>\n      <td>5.2400</td>\n      <td>nan</td>\n      <td>nan</td>\n      <td>5.2430</td>\n      <td>5.4390</td>\n      <td>nan</td>\n      <td>5.7070</td>\n      <td>5.3460</td>\n      <td>5.4040</td>\n      <td>5.8590</td>\n    </tr>\n    <tr>\n      <th>g</th>\n      <td>nan</td>\n      <td>nan</td>\n      <td>nan</td>\n      <td>nan</td>\n      <td>nan</td>\n      <td>nan</td>\n      <td>nan</td>\n      <td>nan</td>\n      <td>nan</td>\n      <td>nan</td>\n      <td>...</td>\n      <td>5.4040</td>\n      <td>5.2590</td>\n      <td>nan</td>\n      <td>5.2630</td>\n      <td>5.2390</td>\n      <td>5.4690</td>\n      <td>5.4340</td>\n      <td>5.4470</td>\n      <td>5.3110</td>\n      <td>5.3950</td>\n    </tr>\n    <tr>\n      <th>karin</th>\n      <td>nan</td>\n      <td>nan</td>\n      <td>nan</td>\n      <td>nan</td>\n      <td>nan</td>\n      <td>nan</td>\n      <td>nan</td>\n      <td>nan</td>\n      <td>nan</td>\n      <td>nan</td>\n      <td>...</td>\n      <td>5.3690</td>\n      <td>nan</td>\n      <td>5.2530</td>\n      <td>5.3160</td>\n      <td>5.3730</td>\n      <td>5.2980</td>\n      <td>5.2370</td>\n      <td>5.5320</td>\n      <td>5.4310</td>\n      <td>5.5520</td>\n    </tr>\n    <tr>\n      <th>sagat</th>\n      <td>nan</td>\n      <td>nan</td>\n      <td>nan</td>\n      <td>nan</td>\n      <td>nan</td>\n      <td>nan</td>\n      <td>nan</td>\n      <td>nan</td>\n      <td>nan</td>\n      <td>nan</td>\n      <td>...</td>\n      <td>5.2460</td>\n      <td>5.3170</td>\n      <td>5.2750</td>\n      <td>nan</td>\n      <td>5.4380</td>\n      <td>5.3910</td>\n      <td>nan</td>\n      <td>5.3000</td>\n      <td>5.2640</td>\n      <td>5.8970</td>\n    </tr>\n    <tr>\n      <th>zeku</th>\n      <td>nan</td>\n      <td>nan</td>\n      <td>nan</td>\n      <td>nan</td>\n      <td>nan</td>\n      <td>nan</td>\n      <td>nan</td>\n      <td>nan</td>\n      <td>nan</td>\n      <td>nan</td>\n      <td>...</td>\n      <td>nan</td>\n      <td>nan</td>\n      <td>nan</td>\n      <td>5.2620</td>\n      <td>nan</td>\n      <td>5.4260</td>\n      <td>5.4440</td>\n      <td>5.3930</td>\n      <td>5.4640</td>\n      <td>5.4950</td>\n    </tr>\n    <tr>\n      <th>ibuki</th>\n      <td>nan</td>\n      <td>nan</td>\n      <td>nan</td>\n      <td>nan</td>\n      <td>nan</td>\n      <td>nan</td>\n      <td>nan</td>\n      <td>nan</td>\n      <td>nan</td>\n      <td>nan</td>\n      <td>...</td>\n      <td>nan</td>\n      <td>nan</td>\n      <td>nan</td>\n      <td>nan</td>\n      <td>5.3450</td>\n      <td>nan</td>\n      <td>5.4180</td>\n      <td>5.3310</td>\n      <td>5.2810</td>\n      <td>5.4850</td>\n    </tr>\n    <tr>\n      <th>laura</th>\n      <td>nan</td>\n      <td>nan</td>\n      <td>nan</td>\n      <td>nan</td>\n      <td>nan</td>\n      <td>nan</td>\n      <td>nan</td>\n      <td>nan</td>\n      <td>nan</td>\n      <td>nan</td>\n      <td>...</td>\n      <td>nan</td>\n      <td>nan</td>\n      <td>5.3040</td>\n      <td>nan</td>\n      <td>nan</td>\n      <td>5.2080</td>\n      <td>5.4920</td>\n      <td>nan</td>\n      <td>5.5750</td>\n      <td>5.6310</td>\n    </tr>\n    <tr>\n      <th>poison</th>\n      <td>nan</td>\n      <td>nan</td>\n      <td>nan</td>\n      <td>nan</td>\n      <td>nan</td>\n      <td>nan</td>\n      <td>nan</td>\n      <td>nan</td>\n      <td>nan</td>\n      <td>nan</td>\n      <td>...</td>\n      <td>nan</td>\n      <td>nan</td>\n      <td>nan</td>\n      <td>nan</td>\n      <td>5.2270</td>\n      <td>nan</td>\n      <td>nan</td>\n      <td>5.3750</td>\n      <td>nan</td>\n      <td>5.7190</td>\n    </tr>\n    <tr>\n      <th>ken</th>\n      <td>nan</td>\n      <td>nan</td>\n      <td>nan</td>\n      <td>nan</td>\n      <td>nan</td>\n      <td>nan</td>\n      <td>nan</td>\n      <td>nan</td>\n      <td>nan</td>\n      <td>nan</td>\n      <td>...</td>\n      <td>5.2290</td>\n      <td>nan</td>\n      <td>5.2750</td>\n      <td>nan</td>\n      <td>nan</td>\n      <td>nan</td>\n      <td>nan</td>\n      <td>nan</td>\n      <td>5.4410</td>\n      <td>5.2480</td>\n    </tr>\n    <tr>\n      <th>kolin</th>\n      <td>nan</td>\n      <td>nan</td>\n      <td>nan</td>\n      <td>nan</td>\n      <td>nan</td>\n      <td>nan</td>\n      <td>nan</td>\n      <td>nan</td>\n      <td>nan</td>\n      <td>nan</td>\n      <td>...</td>\n      <td>nan</td>\n      <td>nan</td>\n      <td>nan</td>\n      <td>nan</td>\n      <td>nan</td>\n      <td>5.4100</td>\n      <td>5.3330</td>\n      <td>5.2710</td>\n      <td>5.3210</td>\n      <td>5.3720</td>\n    </tr>\n    <tr>\n      <th>ryu</th>\n      <td>nan</td>\n      <td>nan</td>\n      <td>nan</td>\n      <td>nan</td>\n      <td>nan</td>\n      <td>nan</td>\n      <td>nan</td>\n      <td>nan</td>\n      <td>nan</td>\n      <td>nan</td>\n      <td>...</td>\n      <td>nan</td>\n      <td>nan</td>\n      <td>nan</td>\n      <td>nan</td>\n      <td>5.2310</td>\n      <td>nan</td>\n      <td>nan</td>\n      <td>5.3060</td>\n      <td>5.2350</td>\n      <td>5.5530</td>\n    </tr>\n    <tr>\n      <th>chunli</th>\n      <td>nan</td>\n      <td>nan</td>\n      <td>nan</td>\n      <td>nan</td>\n      <td>nan</td>\n      <td>nan</td>\n      <td>nan</td>\n      <td>nan</td>\n      <td>nan</td>\n      <td>nan</td>\n      <td>...</td>\n      <td>nan</td>\n      <td>nan</td>\n      <td>nan</td>\n      <td>nan</td>\n      <td>nan</td>\n      <td>nan</td>\n      <td>nan</td>\n      <td>nan</td>\n      <td>nan</td>\n      <td>5.7530</td>\n    </tr>\n    <tr>\n      <th>juri</th>\n      <td>nan</td>\n      <td>nan</td>\n      <td>nan</td>\n      <td>nan</td>\n      <td>nan</td>\n      <td>nan</td>\n      <td>nan</td>\n      <td>nan</td>\n      <td>nan</td>\n      <td>nan</td>\n      <td>...</td>\n      <td>nan</td>\n      <td>nan</td>\n      <td>nan</td>\n      <td>nan</td>\n      <td>5.2460</td>\n      <td>nan</td>\n      <td>5.2180</td>\n      <td>nan</td>\n      <td>5.2150</td>\n      <td>5.3260</td>\n    </tr>\n    <tr>\n      <th>lucia</th>\n      <td>nan</td>\n      <td>nan</td>\n      <td>nan</td>\n      <td>nan</td>\n      <td>nan</td>\n      <td>nan</td>\n      <td>nan</td>\n      <td>nan</td>\n      <td>nan</td>\n      <td>nan</td>\n      <td>...</td>\n      <td>nan</td>\n      <td>nan</td>\n      <td>nan</td>\n      <td>nan</td>\n      <td>nan</td>\n      <td>nan</td>\n      <td>5.3570</td>\n      <td>nan</td>\n      <td>5.3330</td>\n      <td>5.2170</td>\n    </tr>\n    <tr>\n      <th>mika</th>\n      <td>nan</td>\n      <td>nan</td>\n      <td>nan</td>\n      <td>nan</td>\n      <td>nan</td>\n      <td>nan</td>\n      <td>nan</td>\n      <td>nan</td>\n      <td>nan</td>\n      <td>nan</td>\n      <td>...</td>\n      <td>nan</td>\n      <td>nan</td>\n      <td>nan</td>\n      <td>nan</td>\n      <td>5.2300</td>\n      <td>nan</td>\n      <td>5.3840</td>\n      <td>nan</td>\n      <td>nan</td>\n      <td>nan</td>\n    </tr>\n    <tr>\n      <th>gouki</th>\n      <td>nan</td>\n      <td>nan</td>\n      <td>nan</td>\n      <td>nan</td>\n      <td>nan</td>\n      <td>nan</td>\n      <td>nan</td>\n      <td>nan</td>\n      <td>nan</td>\n      <td>nan</td>\n      <td>...</td>\n      <td>nan</td>\n      <td>nan</td>\n      <td>nan</td>\n      <td>nan</td>\n      <td>nan</td>\n      <td>nan</td>\n      <td>nan</td>\n      <td>nan</td>\n      <td>5.2290</td>\n      <td>5.2410</td>\n    </tr>\n    <tr>\n      <th>sakura</th>\n      <td>nan</td>\n      <td>nan</td>\n      <td>nan</td>\n      <td>nan</td>\n      <td>nan</td>\n      <td>nan</td>\n      <td>nan</td>\n      <td>nan</td>\n      <td>nan</td>\n      <td>nan</td>\n      <td>...</td>\n      <td>nan</td>\n      <td>nan</td>\n      <td>nan</td>\n      <td>nan</td>\n      <td>nan</td>\n      <td>nan</td>\n      <td>nan</td>\n      <td>nan</td>\n      <td>nan</td>\n      <td>5.2740</td>\n    </tr>\n    <tr>\n      <th>cammy</th>\n      <td>nan</td>\n      <td>nan</td>\n      <td>nan</td>\n      <td>nan</td>\n      <td>nan</td>\n      <td>nan</td>\n      <td>nan</td>\n      <td>nan</td>\n      <td>nan</td>\n      <td>nan</td>\n      <td>...</td>\n      <td>nan</td>\n      <td>nan</td>\n      <td>nan</td>\n      <td>nan</td>\n      <td>nan</td>\n      <td>nan</td>\n      <td>nan</td>\n      <td>nan</td>\n      <td>nan</td>\n      <td>nan</td>\n    </tr>\n    <tr>\n      <th>menat</th>\n      <td>nan</td>\n      <td>nan</td>\n      <td>nan</td>\n      <td>nan</td>\n      <td>nan</td>\n      <td>nan</td>\n      <td>nan</td>\n      <td>nan</td>\n      <td>nan</td>\n      <td>nan</td>\n      <td>...</td>\n      <td>nan</td>\n      <td>nan</td>\n      <td>nan</td>\n      <td>nan</td>\n      <td>nan</td>\n      <td>nan</td>\n      <td>nan</td>\n      <td>nan</td>\n      <td>nan</td>\n      <td>5.7190</td>\n    </tr>\n    <tr>\n      <th>kage</th>\n      <td>nan</td>\n      <td>nan</td>\n      <td>nan</td>\n      <td>nan</td>\n      <td>nan</td>\n      <td>nan</td>\n      <td>nan</td>\n      <td>nan</td>\n      <td>nan</td>\n      <td>nan</td>\n      <td>...</td>\n      <td>nan</td>\n      <td>nan</td>\n      <td>nan</td>\n      <td>nan</td>\n      <td>nan</td>\n      <td>nan</td>\n      <td>nan</td>\n      <td>nan</td>\n      <td>nan</td>\n      <td>nan</td>\n    </tr>\n    <tr>\n      <th>rashid</th>\n      <td>nan</td>\n      <td>nan</td>\n      <td>nan</td>\n      <td>nan</td>\n      <td>nan</td>\n      <td>nan</td>\n      <td>nan</td>\n      <td>nan</td>\n      <td>nan</td>\n      <td>nan</td>\n      <td>...</td>\n      <td>nan</td>\n      <td>nan</td>\n      <td>nan</td>\n      <td>nan</td>\n      <td>nan</td>\n      <td>nan</td>\n      <td>5.5500</td>\n      <td>nan</td>\n      <td>nan</td>\n      <td>nan</td>\n    </tr>\n    <tr>\n      <th>gill</th>\n      <td>nan</td>\n      <td>nan</td>\n      <td>nan</td>\n      <td>nan</td>\n      <td>nan</td>\n      <td>nan</td>\n      <td>nan</td>\n      <td>nan</td>\n      <td>nan</td>\n      <td>nan</td>\n      <td>...</td>\n      <td>nan</td>\n      <td>nan</td>\n      <td>nan</td>\n      <td>nan</td>\n      <td>nan</td>\n      <td>nan</td>\n      <td>nan</td>\n      <td>nan</td>\n      <td>nan</td>\n      <td>nan</td>\n    </tr>\n  </tbody>\n</table>\n<p>39 rows × 39 columns</p>\n</div>",
      "text/plain": "         honda   vega  urien  balrog  dalsim  blanka   fang  bison  bardy  \\\nname                                                                        \nhonda      nan    nan    nan     nan  6.0770  5.6250    nan 5.8240    nan   \nvega       nan    nan    nan     nan  5.2060     nan 5.3220 5.4610    nan   \nurien      nan    nan    nan     nan  5.2600  5.2710    nan    nan 5.5530   \nbalrog     nan 5.2720    nan     nan  5.7220     nan 5.2770    nan    nan   \ndalsim     nan    nan    nan     nan     nan     nan    nan    nan 5.2330   \nblanka     nan 5.2040    nan     nan  5.3650     nan    nan 5.2660    nan   \nfang    5.2130    nan 5.2860     nan     nan     nan    nan 5.3110    nan   \nbison      nan    nan    nan     nan  5.4240     nan    nan    nan    nan   \nbardy      nan    nan    nan     nan     nan     nan    nan 5.2770    nan   \nabigail    nan    nan    nan     nan     nan     nan    nan    nan 5.3500   \nguile      nan    nan    nan     nan     nan     nan    nan    nan    nan   \ned         nan    nan    nan     nan     nan     nan    nan    nan    nan   \nfalke      nan    nan    nan     nan     nan     nan    nan    nan    nan   \nalex       nan    nan    nan     nan     nan     nan    nan    nan    nan   \nnecali     nan    nan    nan     nan     nan     nan    nan    nan    nan   \ncody       nan    nan    nan     nan     nan     nan    nan    nan    nan   \nzangief    nan    nan    nan     nan     nan     nan    nan 5.3730    nan   \nnash       nan    nan    nan     nan     nan     nan    nan    nan    nan   \ng          nan    nan    nan     nan     nan     nan    nan    nan    nan   \nkarin      nan    nan    nan     nan     nan     nan    nan    nan    nan   \nsagat      nan    nan    nan     nan     nan     nan    nan    nan    nan   \nzeku       nan    nan    nan     nan     nan     nan    nan    nan    nan   \nibuki      nan    nan    nan     nan     nan     nan    nan    nan    nan   \nlaura      nan    nan    nan     nan     nan     nan    nan    nan    nan   \npoison     nan    nan    nan     nan     nan     nan    nan    nan    nan   \nken        nan    nan    nan     nan     nan     nan    nan    nan    nan   \nkolin      nan    nan    nan     nan     nan     nan    nan    nan    nan   \nryu        nan    nan    nan     nan     nan     nan    nan    nan    nan   \nchunli     nan    nan    nan     nan     nan     nan    nan    nan    nan   \njuri       nan    nan    nan     nan     nan     nan    nan    nan    nan   \nlucia      nan    nan    nan     nan     nan     nan    nan    nan    nan   \nmika       nan    nan    nan     nan     nan     nan    nan    nan    nan   \ngouki      nan    nan    nan     nan     nan     nan    nan    nan    nan   \nsakura     nan    nan    nan     nan     nan     nan    nan    nan    nan   \ncammy      nan    nan    nan     nan     nan     nan    nan    nan    nan   \nmenat      nan    nan    nan     nan     nan     nan    nan    nan    nan   \nkage       nan    nan    nan     nan     nan     nan    nan    nan    nan   \nrashid     nan    nan    nan     nan     nan     nan    nan    nan    nan   \ngill       nan    nan    nan     nan     nan     nan    nan    nan    nan   \n\n         abigail  ...   juri  lucia   mika  gouki  sakura  cammy  menat  \\\nname              ...                                                     \nhonda        nan  ... 6.1640 5.9100 5.6560 5.5150  5.6110 6.2060 6.1890   \nvega         nan  ... 5.8110 5.9050 5.3020 5.7120  5.8360 5.7340 6.2850   \nurien     5.4970  ... 5.6920 5.7630 5.5850 5.5740  5.8830 5.8040 5.8960   \nbalrog    5.9840  ... 5.8200 5.9060 5.5690 5.5600  5.6230 5.6070 6.1230   \ndalsim       nan  ... 5.3350 5.6440 5.4310 5.8530  5.9370 5.4800 5.7470   \nblanka       nan  ... 5.5280 5.4640 5.5010 5.7000  5.6080 5.5830 6.2410   \nfang      5.2290  ... 5.5270 5.5900 5.5170 5.4880  5.6130 5.4050 5.8370   \nbison        nan  ... 5.5840 5.7690 5.3820 5.4340  5.6950 5.6410 5.9190   \nbardy        nan  ... 5.5520 5.3980 5.3770 5.4220  5.2740 5.5550 5.3850   \nabigail      nan  ... 5.4300    nan 5.6450 5.2230     nan 5.8420 5.9390   \nguile        nan  ... 5.2810 5.4130 5.3310 5.4160  5.6340 5.4330 5.2630   \ned        5.4090  ... 5.4410 5.5810 5.6610 5.3420  5.4610 5.7080 5.8780   \nfalke        nan  ... 5.2700 5.2670 5.3600 5.3160  5.5140 5.7090 5.7080   \nalex         nan  ... 5.4450 5.3030 5.2290 5.4100     nan 5.5040 6.0200   \nnecali       nan  ...    nan    nan 5.3630 5.3370  5.4320 5.3460 5.5280   \ncody         nan  ... 5.5030 5.3670 5.5980    nan  5.4730 5.6660 5.2630   \nzangief      nan  ... 5.3900    nan 5.6110 5.5690     nan 5.5240    nan   \nnash         nan  ... 5.2400    nan    nan 5.2430  5.4390    nan 5.7070   \ng            nan  ... 5.4040 5.2590    nan 5.2630  5.2390 5.4690 5.4340   \nkarin        nan  ... 5.3690    nan 5.2530 5.3160  5.3730 5.2980 5.2370   \nsagat        nan  ... 5.2460 5.3170 5.2750    nan  5.4380 5.3910    nan   \nzeku         nan  ...    nan    nan    nan 5.2620     nan 5.4260 5.4440   \nibuki        nan  ...    nan    nan    nan    nan  5.3450    nan 5.4180   \nlaura        nan  ...    nan    nan 5.3040    nan     nan 5.2080 5.4920   \npoison       nan  ...    nan    nan    nan    nan  5.2270    nan    nan   \nken          nan  ... 5.2290    nan 5.2750    nan     nan    nan    nan   \nkolin        nan  ...    nan    nan    nan    nan     nan 5.4100 5.3330   \nryu          nan  ...    nan    nan    nan    nan  5.2310    nan    nan   \nchunli       nan  ...    nan    nan    nan    nan     nan    nan    nan   \njuri         nan  ...    nan    nan    nan    nan  5.2460    nan 5.2180   \nlucia        nan  ...    nan    nan    nan    nan     nan    nan 5.3570   \nmika         nan  ...    nan    nan    nan    nan  5.2300    nan 5.3840   \ngouki        nan  ...    nan    nan    nan    nan     nan    nan    nan   \nsakura       nan  ...    nan    nan    nan    nan     nan    nan    nan   \ncammy        nan  ...    nan    nan    nan    nan     nan    nan    nan   \nmenat        nan  ...    nan    nan    nan    nan     nan    nan    nan   \nkage         nan  ...    nan    nan    nan    nan     nan    nan    nan   \nrashid       nan  ...    nan    nan    nan    nan     nan    nan 5.5500   \ngill         nan  ...    nan    nan    nan    nan     nan    nan    nan   \n\n          kage  rashid   gill  \nname                           \nhonda   5.7800  6.0900 6.5590  \nvega    5.9950  5.6080 6.5210  \nurien   5.9340  5.7210 6.3250  \nbalrog  5.9320  5.9470 6.5270  \ndalsim  5.6690     nan 6.1760  \nblanka  5.7910  5.6430 6.4380  \nfang    5.4720     nan 6.5200  \nbison   5.6470  5.7440 6.2180  \nbardy   5.7760  5.3160 5.9230  \nabigail 5.5140     nan 6.0390  \nguile   5.4420  5.8020 6.2000  \ned      5.6510  5.8350 5.9460  \nfalke   5.5950  5.2290 6.0490  \nalex    5.5060     nan 6.0900  \nnecali  5.4300  5.5370 5.9770  \ncody    5.5500  5.5080 6.0390  \nzangief 5.6760  5.3800 5.5640  \nnash    5.3460  5.4040 5.8590  \ng       5.4470  5.3110 5.3950  \nkarin   5.5320  5.4310 5.5520  \nsagat   5.3000  5.2640 5.8970  \nzeku    5.3930  5.4640 5.4950  \nibuki   5.3310  5.2810 5.4850  \nlaura      nan  5.5750 5.6310  \npoison  5.3750     nan 5.7190  \nken        nan  5.4410 5.2480  \nkolin   5.2710  5.3210 5.3720  \nryu     5.3060  5.2350 5.5530  \nchunli     nan     nan 5.7530  \njuri       nan  5.2150 5.3260  \nlucia      nan  5.3330 5.2170  \nmika       nan     nan    nan  \ngouki      nan  5.2290 5.2410  \nsakura     nan     nan 5.2740  \ncammy      nan     nan    nan  \nmenat      nan     nan 5.7190  \nkage       nan     nan    nan  \nrashid     nan     nan    nan  \ngill       nan     nan    nan  \n\n[39 rows x 39 columns]"
     },
     "execution_count": 104,
     "metadata": {},
     "output_type": "execute_result"
    }
   ],
   "source": [
    "yuri"
   ]
  },
  {
   "cell_type": "code",
   "execution_count": 105,
   "metadata": {},
   "outputs": [
    {
     "data": {
      "text/html": "<div>\n<style scoped>\n    .dataframe tbody tr th:only-of-type {\n        vertical-align: middle;\n    }\n\n    .dataframe tbody tr th {\n        vertical-align: top;\n    }\n\n    .dataframe thead th {\n        text-align: right;\n    }\n</style>\n<table border=\"1\" class=\"dataframe\">\n  <thead>\n    <tr style=\"text-align: right;\">\n      <th></th>\n      <th>honda</th>\n      <th>vega</th>\n      <th>urien</th>\n      <th>balrog</th>\n      <th>dalsim</th>\n      <th>blanka</th>\n      <th>fang</th>\n      <th>bison</th>\n      <th>bardy</th>\n      <th>abigail</th>\n      <th>...</th>\n      <th>juri</th>\n      <th>lucia</th>\n      <th>mika</th>\n      <th>gouki</th>\n      <th>sakura</th>\n      <th>cammy</th>\n      <th>menat</th>\n      <th>kage</th>\n      <th>rashid</th>\n      <th>gill</th>\n    </tr>\n    <tr>\n      <th>name</th>\n      <th></th>\n      <th></th>\n      <th></th>\n      <th></th>\n      <th></th>\n      <th></th>\n      <th></th>\n      <th></th>\n      <th></th>\n      <th></th>\n      <th></th>\n      <th></th>\n      <th></th>\n      <th></th>\n      <th></th>\n      <th></th>\n      <th></th>\n      <th></th>\n      <th></th>\n      <th></th>\n      <th></th>\n    </tr>\n  </thead>\n  <tbody>\n    <tr>\n      <th>honda</th>\n      <td>nan</td>\n      <td>nan</td>\n      <td>nan</td>\n      <td>nan</td>\n      <td>nan</td>\n      <td>nan</td>\n      <td>4.7870</td>\n      <td>nan</td>\n      <td>nan</td>\n      <td>nan</td>\n      <td>...</td>\n      <td>nan</td>\n      <td>nan</td>\n      <td>nan</td>\n      <td>nan</td>\n      <td>nan</td>\n      <td>nan</td>\n      <td>nan</td>\n      <td>nan</td>\n      <td>nan</td>\n      <td>nan</td>\n    </tr>\n    <tr>\n      <th>vega</th>\n      <td>nan</td>\n      <td>nan</td>\n      <td>nan</td>\n      <td>4.7280</td>\n      <td>nan</td>\n      <td>4.7960</td>\n      <td>nan</td>\n      <td>nan</td>\n      <td>nan</td>\n      <td>nan</td>\n      <td>...</td>\n      <td>nan</td>\n      <td>nan</td>\n      <td>nan</td>\n      <td>nan</td>\n      <td>nan</td>\n      <td>nan</td>\n      <td>nan</td>\n      <td>nan</td>\n      <td>nan</td>\n      <td>nan</td>\n    </tr>\n    <tr>\n      <th>urien</th>\n      <td>nan</td>\n      <td>nan</td>\n      <td>nan</td>\n      <td>nan</td>\n      <td>nan</td>\n      <td>nan</td>\n      <td>4.7140</td>\n      <td>nan</td>\n      <td>nan</td>\n      <td>nan</td>\n      <td>...</td>\n      <td>nan</td>\n      <td>nan</td>\n      <td>nan</td>\n      <td>nan</td>\n      <td>nan</td>\n      <td>nan</td>\n      <td>nan</td>\n      <td>nan</td>\n      <td>nan</td>\n      <td>nan</td>\n    </tr>\n    <tr>\n      <th>balrog</th>\n      <td>nan</td>\n      <td>nan</td>\n      <td>nan</td>\n      <td>nan</td>\n      <td>nan</td>\n      <td>nan</td>\n      <td>nan</td>\n      <td>nan</td>\n      <td>nan</td>\n      <td>nan</td>\n      <td>...</td>\n      <td>nan</td>\n      <td>nan</td>\n      <td>nan</td>\n      <td>nan</td>\n      <td>nan</td>\n      <td>nan</td>\n      <td>nan</td>\n      <td>nan</td>\n      <td>nan</td>\n      <td>nan</td>\n    </tr>\n    <tr>\n      <th>dalsim</th>\n      <td>3.9230</td>\n      <td>4.7940</td>\n      <td>4.7400</td>\n      <td>4.2780</td>\n      <td>nan</td>\n      <td>4.6350</td>\n      <td>nan</td>\n      <td>4.5760</td>\n      <td>nan</td>\n      <td>nan</td>\n      <td>...</td>\n      <td>nan</td>\n      <td>nan</td>\n      <td>nan</td>\n      <td>nan</td>\n      <td>nan</td>\n      <td>nan</td>\n      <td>nan</td>\n      <td>nan</td>\n      <td>nan</td>\n      <td>nan</td>\n    </tr>\n    <tr>\n      <th>blanka</th>\n      <td>4.3750</td>\n      <td>nan</td>\n      <td>4.7290</td>\n      <td>nan</td>\n      <td>nan</td>\n      <td>nan</td>\n      <td>nan</td>\n      <td>nan</td>\n      <td>nan</td>\n      <td>nan</td>\n      <td>...</td>\n      <td>nan</td>\n      <td>nan</td>\n      <td>nan</td>\n      <td>nan</td>\n      <td>nan</td>\n      <td>nan</td>\n      <td>nan</td>\n      <td>nan</td>\n      <td>nan</td>\n      <td>nan</td>\n    </tr>\n    <tr>\n      <th>fang</th>\n      <td>nan</td>\n      <td>4.6780</td>\n      <td>nan</td>\n      <td>4.7230</td>\n      <td>nan</td>\n      <td>nan</td>\n      <td>nan</td>\n      <td>nan</td>\n      <td>nan</td>\n      <td>nan</td>\n      <td>...</td>\n      <td>nan</td>\n      <td>nan</td>\n      <td>nan</td>\n      <td>nan</td>\n      <td>nan</td>\n      <td>nan</td>\n      <td>nan</td>\n      <td>nan</td>\n      <td>nan</td>\n      <td>nan</td>\n    </tr>\n    <tr>\n      <th>bison</th>\n      <td>4.1760</td>\n      <td>4.5390</td>\n      <td>nan</td>\n      <td>nan</td>\n      <td>nan</td>\n      <td>4.7340</td>\n      <td>4.6890</td>\n      <td>nan</td>\n      <td>4.7230</td>\n      <td>nan</td>\n      <td>...</td>\n      <td>nan</td>\n      <td>nan</td>\n      <td>nan</td>\n      <td>nan</td>\n      <td>nan</td>\n      <td>nan</td>\n      <td>nan</td>\n      <td>nan</td>\n      <td>nan</td>\n      <td>nan</td>\n    </tr>\n    <tr>\n      <th>bardy</th>\n      <td>nan</td>\n      <td>nan</td>\n      <td>4.4470</td>\n      <td>nan</td>\n      <td>4.7670</td>\n      <td>nan</td>\n      <td>nan</td>\n      <td>nan</td>\n      <td>nan</td>\n      <td>4.6500</td>\n      <td>...</td>\n      <td>nan</td>\n      <td>nan</td>\n      <td>nan</td>\n      <td>nan</td>\n      <td>nan</td>\n      <td>nan</td>\n      <td>nan</td>\n      <td>nan</td>\n      <td>nan</td>\n      <td>nan</td>\n    </tr>\n    <tr>\n      <th>abigail</th>\n      <td>nan</td>\n      <td>nan</td>\n      <td>4.5030</td>\n      <td>4.0160</td>\n      <td>nan</td>\n      <td>nan</td>\n      <td>4.7710</td>\n      <td>nan</td>\n      <td>nan</td>\n      <td>nan</td>\n      <td>...</td>\n      <td>nan</td>\n      <td>nan</td>\n      <td>nan</td>\n      <td>nan</td>\n      <td>nan</td>\n      <td>nan</td>\n      <td>nan</td>\n      <td>nan</td>\n      <td>nan</td>\n      <td>nan</td>\n    </tr>\n    <tr>\n      <th>guile</th>\n      <td>4.7830</td>\n      <td>4.4590</td>\n      <td>nan</td>\n      <td>nan</td>\n      <td>4.1910</td>\n      <td>nan</td>\n      <td>4.5940</td>\n      <td>4.6850</td>\n      <td>nan</td>\n      <td>nan</td>\n      <td>...</td>\n      <td>nan</td>\n      <td>nan</td>\n      <td>nan</td>\n      <td>nan</td>\n      <td>nan</td>\n      <td>nan</td>\n      <td>nan</td>\n      <td>nan</td>\n      <td>nan</td>\n      <td>nan</td>\n    </tr>\n    <tr>\n      <th>ed</th>\n      <td>4.7700</td>\n      <td>4.5190</td>\n      <td>4.5260</td>\n      <td>4.7670</td>\n      <td>4.5030</td>\n      <td>4.7820</td>\n      <td>nan</td>\n      <td>nan</td>\n      <td>nan</td>\n      <td>nan</td>\n      <td>...</td>\n      <td>nan</td>\n      <td>nan</td>\n      <td>nan</td>\n      <td>nan</td>\n      <td>nan</td>\n      <td>nan</td>\n      <td>nan</td>\n      <td>nan</td>\n      <td>nan</td>\n      <td>nan</td>\n    </tr>\n    <tr>\n      <th>falke</th>\n      <td>4.1820</td>\n      <td>4.2110</td>\n      <td>4.6860</td>\n      <td>4.5450</td>\n      <td>4.2470</td>\n      <td>4.5930</td>\n      <td>4.6390</td>\n      <td>4.3090</td>\n      <td>nan</td>\n      <td>nan</td>\n      <td>...</td>\n      <td>nan</td>\n      <td>nan</td>\n      <td>nan</td>\n      <td>nan</td>\n      <td>nan</td>\n      <td>nan</td>\n      <td>nan</td>\n      <td>nan</td>\n      <td>nan</td>\n      <td>nan</td>\n    </tr>\n    <tr>\n      <th>alex</th>\n      <td>4.7170</td>\n      <td>4.6060</td>\n      <td>4.4800</td>\n      <td>4.3650</td>\n      <td>nan</td>\n      <td>nan</td>\n      <td>4.7310</td>\n      <td>nan</td>\n      <td>nan</td>\n      <td>nan</td>\n      <td>...</td>\n      <td>nan</td>\n      <td>nan</td>\n      <td>nan</td>\n      <td>nan</td>\n      <td>nan</td>\n      <td>nan</td>\n      <td>nan</td>\n      <td>nan</td>\n      <td>nan</td>\n      <td>nan</td>\n    </tr>\n    <tr>\n      <th>necali</th>\n      <td>4.0780</td>\n      <td>4.3960</td>\n      <td>4.6340</td>\n      <td>4.7990</td>\n      <td>nan</td>\n      <td>4.4980</td>\n      <td>nan</td>\n      <td>4.7910</td>\n      <td>4.7720</td>\n      <td>nan</td>\n      <td>...</td>\n      <td>nan</td>\n      <td>nan</td>\n      <td>nan</td>\n      <td>nan</td>\n      <td>nan</td>\n      <td>nan</td>\n      <td>nan</td>\n      <td>nan</td>\n      <td>nan</td>\n      <td>nan</td>\n    </tr>\n    <tr>\n      <th>cody</th>\n      <td>4.7890</td>\n      <td>4.4210</td>\n      <td>4.4200</td>\n      <td>nan</td>\n      <td>4.3470</td>\n      <td>nan</td>\n      <td>4.6910</td>\n      <td>nan</td>\n      <td>nan</td>\n      <td>nan</td>\n      <td>...</td>\n      <td>nan</td>\n      <td>nan</td>\n      <td>nan</td>\n      <td>nan</td>\n      <td>nan</td>\n      <td>nan</td>\n      <td>nan</td>\n      <td>nan</td>\n      <td>nan</td>\n      <td>nan</td>\n    </tr>\n    <tr>\n      <th>zangief</th>\n      <td>nan</td>\n      <td>nan</td>\n      <td>4.2900</td>\n      <td>4.4660</td>\n      <td>3.4390</td>\n      <td>4.6840</td>\n      <td>nan</td>\n      <td>nan</td>\n      <td>4.2580</td>\n      <td>4.0960</td>\n      <td>...</td>\n      <td>nan</td>\n      <td>nan</td>\n      <td>nan</td>\n      <td>nan</td>\n      <td>nan</td>\n      <td>nan</td>\n      <td>4.6250</td>\n      <td>nan</td>\n      <td>nan</td>\n      <td>nan</td>\n    </tr>\n    <tr>\n      <th>nash</th>\n      <td>4.2770</td>\n      <td>4.3520</td>\n      <td>4.6180</td>\n      <td>4.3180</td>\n      <td>4.6080</td>\n      <td>4.6680</td>\n      <td>nan</td>\n      <td>4.5260</td>\n      <td>nan</td>\n      <td>nan</td>\n      <td>...</td>\n      <td>nan</td>\n      <td>nan</td>\n      <td>nan</td>\n      <td>nan</td>\n      <td>nan</td>\n      <td>nan</td>\n      <td>nan</td>\n      <td>nan</td>\n      <td>nan</td>\n      <td>nan</td>\n    </tr>\n    <tr>\n      <th>g</th>\n      <td>4.3550</td>\n      <td>4.5290</td>\n      <td>4.2850</td>\n      <td>4.7080</td>\n      <td>4.6800</td>\n      <td>4.7040</td>\n      <td>nan</td>\n      <td>4.4840</td>\n      <td>nan</td>\n      <td>4.5910</td>\n      <td>...</td>\n      <td>nan</td>\n      <td>nan</td>\n      <td>nan</td>\n      <td>nan</td>\n      <td>nan</td>\n      <td>nan</td>\n      <td>nan</td>\n      <td>nan</td>\n      <td>nan</td>\n      <td>nan</td>\n    </tr>\n    <tr>\n      <th>karin</th>\n      <td>4.3250</td>\n      <td>4.4470</td>\n      <td>4.5090</td>\n      <td>4.6410</td>\n      <td>4.7920</td>\n      <td>4.5070</td>\n      <td>4.4000</td>\n      <td>4.5900</td>\n      <td>4.4910</td>\n      <td>4.7230</td>\n      <td>...</td>\n      <td>nan</td>\n      <td>nan</td>\n      <td>nan</td>\n      <td>nan</td>\n      <td>nan</td>\n      <td>nan</td>\n      <td>nan</td>\n      <td>nan</td>\n      <td>nan</td>\n      <td>nan</td>\n    </tr>\n    <tr>\n      <th>sagat</th>\n      <td>4.6030</td>\n      <td>3.9140</td>\n      <td>4.4450</td>\n      <td>4.0060</td>\n      <td>3.8570</td>\n      <td>4.4080</td>\n      <td>4.3180</td>\n      <td>4.4550</td>\n      <td>4.7690</td>\n      <td>4.6100</td>\n      <td>...</td>\n      <td>nan</td>\n      <td>nan</td>\n      <td>nan</td>\n      <td>nan</td>\n      <td>nan</td>\n      <td>nan</td>\n      <td>nan</td>\n      <td>nan</td>\n      <td>nan</td>\n      <td>nan</td>\n    </tr>\n    <tr>\n      <th>zeku</th>\n      <td>4.4070</td>\n      <td>4.4220</td>\n      <td>4.3850</td>\n      <td>4.2570</td>\n      <td>nan</td>\n      <td>4.6200</td>\n      <td>4.7370</td>\n      <td>4.4080</td>\n      <td>4.3880</td>\n      <td>nan</td>\n      <td>...</td>\n      <td>nan</td>\n      <td>nan</td>\n      <td>nan</td>\n      <td>nan</td>\n      <td>nan</td>\n      <td>nan</td>\n      <td>nan</td>\n      <td>nan</td>\n      <td>nan</td>\n      <td>nan</td>\n    </tr>\n    <tr>\n      <th>ibuki</th>\n      <td>4.4560</td>\n      <td>4.3650</td>\n      <td>4.4530</td>\n      <td>4.2710</td>\n      <td>4.7000</td>\n      <td>4.5300</td>\n      <td>4.3520</td>\n      <td>4.5370</td>\n      <td>4.7330</td>\n      <td>4.4820</td>\n      <td>...</td>\n      <td>nan</td>\n      <td>nan</td>\n      <td>nan</td>\n      <td>nan</td>\n      <td>nan</td>\n      <td>nan</td>\n      <td>nan</td>\n      <td>nan</td>\n      <td>nan</td>\n      <td>nan</td>\n    </tr>\n    <tr>\n      <th>laura</th>\n      <td>4.6910</td>\n      <td>nan</td>\n      <td>4.3420</td>\n      <td>nan</td>\n      <td>4.7860</td>\n      <td>nan</td>\n      <td>nan</td>\n      <td>nan</td>\n      <td>4.7910</td>\n      <td>4.6930</td>\n      <td>...</td>\n      <td>nan</td>\n      <td>nan</td>\n      <td>nan</td>\n      <td>nan</td>\n      <td>nan</td>\n      <td>nan</td>\n      <td>nan</td>\n      <td>nan</td>\n      <td>nan</td>\n      <td>nan</td>\n    </tr>\n    <tr>\n      <th>poison</th>\n      <td>4.0350</td>\n      <td>4.2080</td>\n      <td>4.0060</td>\n      <td>4.5110</td>\n      <td>4.1560</td>\n      <td>4.0310</td>\n      <td>4.4720</td>\n      <td>4.2940</td>\n      <td>4.4490</td>\n      <td>4.1810</td>\n      <td>...</td>\n      <td>nan</td>\n      <td>nan</td>\n      <td>nan</td>\n      <td>nan</td>\n      <td>nan</td>\n      <td>nan</td>\n      <td>nan</td>\n      <td>nan</td>\n      <td>nan</td>\n      <td>nan</td>\n    </tr>\n    <tr>\n      <th>ken</th>\n      <td>4.3870</td>\n      <td>4.5470</td>\n      <td>4.4470</td>\n      <td>4.5720</td>\n      <td>4.4070</td>\n      <td>nan</td>\n      <td>4.7860</td>\n      <td>4.6570</td>\n      <td>nan</td>\n      <td>nan</td>\n      <td>...</td>\n      <td>nan</td>\n      <td>nan</td>\n      <td>nan</td>\n      <td>nan</td>\n      <td>nan</td>\n      <td>nan</td>\n      <td>nan</td>\n      <td>nan</td>\n      <td>nan</td>\n      <td>nan</td>\n    </tr>\n    <tr>\n      <th>kolin</th>\n      <td>4.3360</td>\n      <td>4.4900</td>\n      <td>4.3920</td>\n      <td>4.7070</td>\n      <td>nan</td>\n      <td>4.6680</td>\n      <td>nan</td>\n      <td>4.4010</td>\n      <td>4.3570</td>\n      <td>4.5590</td>\n      <td>...</td>\n      <td>nan</td>\n      <td>nan</td>\n      <td>nan</td>\n      <td>nan</td>\n      <td>nan</td>\n      <td>nan</td>\n      <td>nan</td>\n      <td>nan</td>\n      <td>nan</td>\n      <td>nan</td>\n    </tr>\n    <tr>\n      <th>ryu</th>\n      <td>4.4480</td>\n      <td>4.3490</td>\n      <td>4.4980</td>\n      <td>4.4010</td>\n      <td>4.1390</td>\n      <td>4.5790</td>\n      <td>4.5430</td>\n      <td>4.5000</td>\n      <td>4.5030</td>\n      <td>nan</td>\n      <td>...</td>\n      <td>nan</td>\n      <td>nan</td>\n      <td>nan</td>\n      <td>nan</td>\n      <td>nan</td>\n      <td>nan</td>\n      <td>nan</td>\n      <td>nan</td>\n      <td>nan</td>\n      <td>nan</td>\n    </tr>\n    <tr>\n      <th>chunli</th>\n      <td>4.2600</td>\n      <td>4.5370</td>\n      <td>4.2650</td>\n      <td>4.6670</td>\n      <td>3.9580</td>\n      <td>4.2860</td>\n      <td>4.5750</td>\n      <td>4.7780</td>\n      <td>4.5520</td>\n      <td>4.7220</td>\n      <td>...</td>\n      <td>nan</td>\n      <td>nan</td>\n      <td>nan</td>\n      <td>nan</td>\n      <td>nan</td>\n      <td>nan</td>\n      <td>nan</td>\n      <td>nan</td>\n      <td>nan</td>\n      <td>nan</td>\n    </tr>\n    <tr>\n      <th>juri</th>\n      <td>3.8360</td>\n      <td>4.1890</td>\n      <td>4.3080</td>\n      <td>4.1800</td>\n      <td>4.6650</td>\n      <td>4.4720</td>\n      <td>4.4730</td>\n      <td>4.4160</td>\n      <td>4.4480</td>\n      <td>4.5700</td>\n      <td>...</td>\n      <td>nan</td>\n      <td>nan</td>\n      <td>nan</td>\n      <td>nan</td>\n      <td>nan</td>\n      <td>nan</td>\n      <td>nan</td>\n      <td>nan</td>\n      <td>nan</td>\n      <td>nan</td>\n    </tr>\n    <tr>\n      <th>lucia</th>\n      <td>4.0900</td>\n      <td>4.0950</td>\n      <td>4.2370</td>\n      <td>4.0940</td>\n      <td>4.3560</td>\n      <td>4.5360</td>\n      <td>4.4100</td>\n      <td>4.2310</td>\n      <td>4.6020</td>\n      <td>nan</td>\n      <td>...</td>\n      <td>nan</td>\n      <td>nan</td>\n      <td>nan</td>\n      <td>nan</td>\n      <td>nan</td>\n      <td>nan</td>\n      <td>nan</td>\n      <td>nan</td>\n      <td>nan</td>\n      <td>nan</td>\n    </tr>\n    <tr>\n      <th>mika</th>\n      <td>4.3440</td>\n      <td>4.6980</td>\n      <td>4.4150</td>\n      <td>4.4310</td>\n      <td>4.5690</td>\n      <td>4.4990</td>\n      <td>4.4830</td>\n      <td>4.6180</td>\n      <td>4.6230</td>\n      <td>4.3550</td>\n      <td>...</td>\n      <td>nan</td>\n      <td>nan</td>\n      <td>nan</td>\n      <td>nan</td>\n      <td>nan</td>\n      <td>nan</td>\n      <td>nan</td>\n      <td>nan</td>\n      <td>nan</td>\n      <td>nan</td>\n    </tr>\n    <tr>\n      <th>gouki</th>\n      <td>4.4850</td>\n      <td>4.2880</td>\n      <td>4.4260</td>\n      <td>4.4400</td>\n      <td>4.1470</td>\n      <td>4.3000</td>\n      <td>4.5120</td>\n      <td>4.5660</td>\n      <td>4.5780</td>\n      <td>4.7770</td>\n      <td>...</td>\n      <td>nan</td>\n      <td>nan</td>\n      <td>nan</td>\n      <td>nan</td>\n      <td>nan</td>\n      <td>nan</td>\n      <td>nan</td>\n      <td>nan</td>\n      <td>nan</td>\n      <td>nan</td>\n    </tr>\n    <tr>\n      <th>sakura</th>\n      <td>4.3890</td>\n      <td>4.1640</td>\n      <td>4.1170</td>\n      <td>4.3770</td>\n      <td>4.0630</td>\n      <td>4.3920</td>\n      <td>4.3870</td>\n      <td>4.3050</td>\n      <td>4.7260</td>\n      <td>nan</td>\n      <td>...</td>\n      <td>4.7540</td>\n      <td>nan</td>\n      <td>4.7700</td>\n      <td>nan</td>\n      <td>nan</td>\n      <td>nan</td>\n      <td>nan</td>\n      <td>nan</td>\n      <td>nan</td>\n      <td>nan</td>\n    </tr>\n    <tr>\n      <th>cammy</th>\n      <td>3.7940</td>\n      <td>4.2660</td>\n      <td>4.1960</td>\n      <td>4.3930</td>\n      <td>4.5200</td>\n      <td>4.4170</td>\n      <td>4.5950</td>\n      <td>4.3590</td>\n      <td>4.4450</td>\n      <td>4.1580</td>\n      <td>...</td>\n      <td>nan</td>\n      <td>nan</td>\n      <td>nan</td>\n      <td>nan</td>\n      <td>nan</td>\n      <td>nan</td>\n      <td>nan</td>\n      <td>nan</td>\n      <td>nan</td>\n      <td>nan</td>\n    </tr>\n    <tr>\n      <th>menat</th>\n      <td>3.8110</td>\n      <td>3.7150</td>\n      <td>4.1040</td>\n      <td>3.8770</td>\n      <td>4.2530</td>\n      <td>3.7590</td>\n      <td>4.1630</td>\n      <td>4.0810</td>\n      <td>4.6150</td>\n      <td>4.0610</td>\n      <td>...</td>\n      <td>4.7820</td>\n      <td>4.6430</td>\n      <td>4.6160</td>\n      <td>nan</td>\n      <td>nan</td>\n      <td>nan</td>\n      <td>nan</td>\n      <td>nan</td>\n      <td>4.4500</td>\n      <td>nan</td>\n    </tr>\n    <tr>\n      <th>kage</th>\n      <td>4.2200</td>\n      <td>4.0050</td>\n      <td>4.0660</td>\n      <td>4.0680</td>\n      <td>4.3310</td>\n      <td>4.2090</td>\n      <td>4.5280</td>\n      <td>4.3530</td>\n      <td>4.2240</td>\n      <td>4.4860</td>\n      <td>...</td>\n      <td>nan</td>\n      <td>nan</td>\n      <td>nan</td>\n      <td>nan</td>\n      <td>nan</td>\n      <td>nan</td>\n      <td>nan</td>\n      <td>nan</td>\n      <td>nan</td>\n      <td>nan</td>\n    </tr>\n    <tr>\n      <th>rashid</th>\n      <td>3.9100</td>\n      <td>4.3920</td>\n      <td>4.2790</td>\n      <td>4.0530</td>\n      <td>nan</td>\n      <td>4.3570</td>\n      <td>nan</td>\n      <td>4.2560</td>\n      <td>4.6840</td>\n      <td>nan</td>\n      <td>...</td>\n      <td>4.7850</td>\n      <td>4.6670</td>\n      <td>nan</td>\n      <td>4.7710</td>\n      <td>nan</td>\n      <td>nan</td>\n      <td>nan</td>\n      <td>nan</td>\n      <td>nan</td>\n      <td>nan</td>\n    </tr>\n    <tr>\n      <th>gill</th>\n      <td>3.4410</td>\n      <td>3.4790</td>\n      <td>3.6750</td>\n      <td>3.4730</td>\n      <td>3.8240</td>\n      <td>3.5620</td>\n      <td>3.4800</td>\n      <td>3.7820</td>\n      <td>4.0770</td>\n      <td>3.9610</td>\n      <td>...</td>\n      <td>4.6740</td>\n      <td>4.7830</td>\n      <td>nan</td>\n      <td>4.7590</td>\n      <td>4.7260</td>\n      <td>nan</td>\n      <td>4.2810</td>\n      <td>nan</td>\n      <td>nan</td>\n      <td>nan</td>\n    </tr>\n  </tbody>\n</table>\n<p>39 rows × 39 columns</p>\n</div>",
      "text/plain": "         honda   vega  urien  balrog  dalsim  blanka   fang  bison  bardy  \\\nname                                                                        \nhonda      nan    nan    nan     nan     nan     nan 4.7870    nan    nan   \nvega       nan    nan    nan  4.7280     nan  4.7960    nan    nan    nan   \nurien      nan    nan    nan     nan     nan     nan 4.7140    nan    nan   \nbalrog     nan    nan    nan     nan     nan     nan    nan    nan    nan   \ndalsim  3.9230 4.7940 4.7400  4.2780     nan  4.6350    nan 4.5760    nan   \nblanka  4.3750    nan 4.7290     nan     nan     nan    nan    nan    nan   \nfang       nan 4.6780    nan  4.7230     nan     nan    nan    nan    nan   \nbison   4.1760 4.5390    nan     nan     nan  4.7340 4.6890    nan 4.7230   \nbardy      nan    nan 4.4470     nan  4.7670     nan    nan    nan    nan   \nabigail    nan    nan 4.5030  4.0160     nan     nan 4.7710    nan    nan   \nguile   4.7830 4.4590    nan     nan  4.1910     nan 4.5940 4.6850    nan   \ned      4.7700 4.5190 4.5260  4.7670  4.5030  4.7820    nan    nan    nan   \nfalke   4.1820 4.2110 4.6860  4.5450  4.2470  4.5930 4.6390 4.3090    nan   \nalex    4.7170 4.6060 4.4800  4.3650     nan     nan 4.7310    nan    nan   \nnecali  4.0780 4.3960 4.6340  4.7990     nan  4.4980    nan 4.7910 4.7720   \ncody    4.7890 4.4210 4.4200     nan  4.3470     nan 4.6910    nan    nan   \nzangief    nan    nan 4.2900  4.4660  3.4390  4.6840    nan    nan 4.2580   \nnash    4.2770 4.3520 4.6180  4.3180  4.6080  4.6680    nan 4.5260    nan   \ng       4.3550 4.5290 4.2850  4.7080  4.6800  4.7040    nan 4.4840    nan   \nkarin   4.3250 4.4470 4.5090  4.6410  4.7920  4.5070 4.4000 4.5900 4.4910   \nsagat   4.6030 3.9140 4.4450  4.0060  3.8570  4.4080 4.3180 4.4550 4.7690   \nzeku    4.4070 4.4220 4.3850  4.2570     nan  4.6200 4.7370 4.4080 4.3880   \nibuki   4.4560 4.3650 4.4530  4.2710  4.7000  4.5300 4.3520 4.5370 4.7330   \nlaura   4.6910    nan 4.3420     nan  4.7860     nan    nan    nan 4.7910   \npoison  4.0350 4.2080 4.0060  4.5110  4.1560  4.0310 4.4720 4.2940 4.4490   \nken     4.3870 4.5470 4.4470  4.5720  4.4070     nan 4.7860 4.6570    nan   \nkolin   4.3360 4.4900 4.3920  4.7070     nan  4.6680    nan 4.4010 4.3570   \nryu     4.4480 4.3490 4.4980  4.4010  4.1390  4.5790 4.5430 4.5000 4.5030   \nchunli  4.2600 4.5370 4.2650  4.6670  3.9580  4.2860 4.5750 4.7780 4.5520   \njuri    3.8360 4.1890 4.3080  4.1800  4.6650  4.4720 4.4730 4.4160 4.4480   \nlucia   4.0900 4.0950 4.2370  4.0940  4.3560  4.5360 4.4100 4.2310 4.6020   \nmika    4.3440 4.6980 4.4150  4.4310  4.5690  4.4990 4.4830 4.6180 4.6230   \ngouki   4.4850 4.2880 4.4260  4.4400  4.1470  4.3000 4.5120 4.5660 4.5780   \nsakura  4.3890 4.1640 4.1170  4.3770  4.0630  4.3920 4.3870 4.3050 4.7260   \ncammy   3.7940 4.2660 4.1960  4.3930  4.5200  4.4170 4.5950 4.3590 4.4450   \nmenat   3.8110 3.7150 4.1040  3.8770  4.2530  3.7590 4.1630 4.0810 4.6150   \nkage    4.2200 4.0050 4.0660  4.0680  4.3310  4.2090 4.5280 4.3530 4.2240   \nrashid  3.9100 4.3920 4.2790  4.0530     nan  4.3570    nan 4.2560 4.6840   \ngill    3.4410 3.4790 3.6750  3.4730  3.8240  3.5620 3.4800 3.7820 4.0770   \n\n         abigail  ...   juri  lucia   mika  gouki  sakura  cammy  menat  kage  \\\nname              ...                                                           \nhonda        nan  ...    nan    nan    nan    nan     nan    nan    nan   nan   \nvega         nan  ...    nan    nan    nan    nan     nan    nan    nan   nan   \nurien        nan  ...    nan    nan    nan    nan     nan    nan    nan   nan   \nbalrog       nan  ...    nan    nan    nan    nan     nan    nan    nan   nan   \ndalsim       nan  ...    nan    nan    nan    nan     nan    nan    nan   nan   \nblanka       nan  ...    nan    nan    nan    nan     nan    nan    nan   nan   \nfang         nan  ...    nan    nan    nan    nan     nan    nan    nan   nan   \nbison        nan  ...    nan    nan    nan    nan     nan    nan    nan   nan   \nbardy     4.6500  ...    nan    nan    nan    nan     nan    nan    nan   nan   \nabigail      nan  ...    nan    nan    nan    nan     nan    nan    nan   nan   \nguile        nan  ...    nan    nan    nan    nan     nan    nan    nan   nan   \ned           nan  ...    nan    nan    nan    nan     nan    nan    nan   nan   \nfalke        nan  ...    nan    nan    nan    nan     nan    nan    nan   nan   \nalex         nan  ...    nan    nan    nan    nan     nan    nan    nan   nan   \nnecali       nan  ...    nan    nan    nan    nan     nan    nan    nan   nan   \ncody         nan  ...    nan    nan    nan    nan     nan    nan    nan   nan   \nzangief   4.0960  ...    nan    nan    nan    nan     nan    nan 4.6250   nan   \nnash         nan  ...    nan    nan    nan    nan     nan    nan    nan   nan   \ng         4.5910  ...    nan    nan    nan    nan     nan    nan    nan   nan   \nkarin     4.7230  ...    nan    nan    nan    nan     nan    nan    nan   nan   \nsagat     4.6100  ...    nan    nan    nan    nan     nan    nan    nan   nan   \nzeku         nan  ...    nan    nan    nan    nan     nan    nan    nan   nan   \nibuki     4.4820  ...    nan    nan    nan    nan     nan    nan    nan   nan   \nlaura     4.6930  ...    nan    nan    nan    nan     nan    nan    nan   nan   \npoison    4.1810  ...    nan    nan    nan    nan     nan    nan    nan   nan   \nken          nan  ...    nan    nan    nan    nan     nan    nan    nan   nan   \nkolin     4.5590  ...    nan    nan    nan    nan     nan    nan    nan   nan   \nryu          nan  ...    nan    nan    nan    nan     nan    nan    nan   nan   \nchunli    4.7220  ...    nan    nan    nan    nan     nan    nan    nan   nan   \njuri      4.5700  ...    nan    nan    nan    nan     nan    nan    nan   nan   \nlucia        nan  ...    nan    nan    nan    nan     nan    nan    nan   nan   \nmika      4.3550  ...    nan    nan    nan    nan     nan    nan    nan   nan   \ngouki     4.7770  ...    nan    nan    nan    nan     nan    nan    nan   nan   \nsakura       nan  ... 4.7540    nan 4.7700    nan     nan    nan    nan   nan   \ncammy     4.1580  ...    nan    nan    nan    nan     nan    nan    nan   nan   \nmenat     4.0610  ... 4.7820 4.6430 4.6160    nan     nan    nan    nan   nan   \nkage      4.4860  ...    nan    nan    nan    nan     nan    nan    nan   nan   \nrashid       nan  ... 4.7850 4.6670    nan 4.7710     nan    nan    nan   nan   \ngill      3.9610  ... 4.6740 4.7830    nan 4.7590  4.7260    nan 4.2810   nan   \n\n         rashid  gill  \nname                   \nhonda       nan   nan  \nvega        nan   nan  \nurien       nan   nan  \nbalrog      nan   nan  \ndalsim      nan   nan  \nblanka      nan   nan  \nfang        nan   nan  \nbison       nan   nan  \nbardy       nan   nan  \nabigail     nan   nan  \nguile       nan   nan  \ned          nan   nan  \nfalke       nan   nan  \nalex        nan   nan  \nnecali      nan   nan  \ncody        nan   nan  \nzangief     nan   nan  \nnash        nan   nan  \ng           nan   nan  \nkarin       nan   nan  \nsagat       nan   nan  \nzeku        nan   nan  \nibuki       nan   nan  \nlaura       nan   nan  \npoison      nan   nan  \nken         nan   nan  \nkolin       nan   nan  \nryu         nan   nan  \nchunli      nan   nan  \njuri        nan   nan  \nlucia       nan   nan  \nmika        nan   nan  \ngouki       nan   nan  \nsakura      nan   nan  \ncammy       nan   nan  \nmenat    4.4500   nan  \nkage        nan   nan  \nrashid      nan   nan  \ngill        nan   nan  \n\n[39 rows x 39 columns]"
     },
     "execution_count": 105,
     "metadata": {},
     "output_type": "execute_result"
    }
   ],
   "source": [
    "furi"
   ]
  },
  {
   "cell_type": "code",
   "execution_count": null,
   "metadata": {},
   "outputs": [],
   "source": []
  },
  {
   "cell_type": "code",
   "execution_count": 106,
   "metadata": {},
   "outputs": [],
   "source": [
    "def beautify(html, delete_name=False):\n",
    "    soup = BeautifulSoup(html, \"lxml\")\n",
    "    for tag in soup():\n",
    "        for attribute in [\"class\", \"id\", \"name\", \"style\",\"border\"]:\n",
    "            del tag[attribute]\n",
    "    # css kit 用のクラスを割り付ける\n",
    "    t = soup.find(\"table\")\n",
    "    t[\"class\"] = \"uk-table uk-table-divider  uk-table-small\"\n",
    "    # name だけある行が不要なので消す\n",
    "    tr = soup.find(\"tr\")\n",
    "    if delete_name:\n",
    "        soup(\"tr\")[1].decompose()\n",
    "    # todo: 最後にhtmlとbodyたぐを除去する\n",
    "    return str(soup.table)"
   ]
  },
  {
   "cell_type": "code",
   "execution_count": 107,
   "metadata": {},
   "outputs": [],
   "source": [
    "f  = open(f\"../stats.html\", \"w\", encoding=\"utf-8\")\n",
    "f.write(f\"\"\"<!DOCTYPE html>\n",
    "<html>\n",
    "<head>\n",
    "<meta charset=\"UTF-8\">\n",
    "<title>Disadvantages and Recommend({period}) | Street fighter V Champion Edition</title>\n",
    "<!-- UIkit CSS -->\n",
    "<link rel=\"stylesheet\" href=\"https://cdn.jsdelivr.net/npm/uikit@3.2.6/dist/css/uikit.min.css\" />\n",
    "\n",
    "<!-- UIkit JS -->\n",
    "<script src=\"https://cdn.jsdelivr.net/npm/uikit@3.2.6/dist/js/uikit.min.js\"></script>\n",
    "<script src=\"https://cdn.jsdelivr.net/npm/uikit@3.2.6/dist/js/uikit-icons.min.js\"></script>\n",
    "</head>\n",
    "\n",
    "<body>\n",
    "\"\"\")\n",
    "f.write('<header class=\"uk-section uk-section-primary uk-light  uk-padding\">')\n",
    "f.write('<h1>Disadvantages and Recommend</h1>')\n",
    "f.write(\"</header>\")\n",
    "\n",
    "f.write(\"\"\"<div class=\"uk-section uk-section-default uk-padding\">\"\"\")\n",
    "f.write(f\"\"\"<p>自分のキャラを選ぶと、下に不利な組み合わせと、それに有効なかぶせを表示します。<br>\n",
    "集計期間: {period}\n",
    "</p>\"\"\")\n",
    "\n",
    "\n",
    "# ----------\n",
    "\n",
    "f.write('<div class=\"uk-subnav uk-subnav-pill uk-flex\" uk-switcher>')\n",
    "for idx, x in enumerate(df.columns):\n",
    "    f.write(f\"\"\"<div><a href=\"#{x}\" uk-switcher-item=\"{idx}\">{x.capitalize()}</a></div>\"\"\")\n",
    "f.write(\"</div>\")\n",
    "\n",
    "\n",
    "# -------------------\n",
    "\n",
    "f.write(\"\"\"<div class=\"uk-switcher uk-margin\">\"\"\")\n",
    "idx = 0\n",
    "for k,fr in furi.iterrows():\n",
    "    f.write(f\"\"\"<div uk-switcher-item=\"{idx}\">\"\"\")\n",
    "\n",
    "    ks = [k for k in fr.dropna().keys()]\n",
    "    yr = yuri[list(ks)].dropna(how='all')#.dropna(how='all', axis=1)\n",
    "    yr = yr.replace(np.nan, '', regex=True)\n",
    "    html = yr.to_html()\n",
    "\n",
    "    f.write(f\"\"\"<h3 class=\"uk-heading-medium uk-heading-line uk-text-center\"><a name=\"{k}\">{k.capitalize()}</a></h3>\\n\"\"\")\n",
    "    f.write(\"\"\"<h4 class=\"uk-heading-small\">Disadvantages:</h4>\"\"\")\n",
    "\n",
    "    f.write(\"\"\"<div class=\"uk-overflow-auto\">\"\"\")\n",
    "\n",
    "    fr = pd.DataFrame(furi.loc[k].dropna(how='all'))\n",
    "    if len(fr):\n",
    "        # 表示用には転置\n",
    "        f.write(beautify(fr.T.to_html()))\n",
    "    else:\n",
    "        f.write(\"<p>Not disadvantaged for everything.</p>\")\n",
    "        \n",
    "    f.write(\"\"\"</div>\"\"\")\n",
    "\n",
    "    \n",
    "    f.write(\"\"\"<h4 class=\"uk-heading-small\">Counter pics recommend:</h4>\"\"\")\n",
    "    # pandasのhtmlをきれいにする\n",
    "    f.write(\"\"\"<div class=\"uk-overflow-auto\">\"\"\")\n",
    "    f.write(beautify(html, False))\n",
    "    f.write(\"\"\"</div>\"\"\")\n",
    "    f.write(\"\"\"</div>\"\"\")\n",
    "    idx += 1\n",
    "    \n",
    "f.write(\"\"\"</div>\"\"\")\n",
    "\n",
    "    \n",
    "# padding\n",
    "f.write(f\"\"\"</div>\n",
    "<div class=\"uk-section uk-section-muted uk-padding uk-text-small\">\n",
    "シャドルー研究所のstats抜き出して、統計上の有利（{RATE_YURI}以上）/不利（{RATE_FURI}以下）を分けて出しているだけのものです。<br>\n",
    "たぶん使用率の低いキャラ・追加間もないキャラの数値は特に動きやすいです。<br>\n",
    "それサブで出します？みたいな例もありますが一種の冗談と思って見るくらいでお願いします。\n",
    "</div>\n",
    "\n",
    "<footer class=\"uk-section uk-section-secondary uk-light  uk-padding\">\n",
    "author:　<a href=\"https://twitter.com/schaft_aurea\">Halipeco</a><br>\n",
    "The original data is on <a href=\"https://game.capcom.com/cfn/sfv/stats/dia/\">対戦ダイヤグラム | 統計情報 | CAPCOM：シャドルー格闘家研究所</a><br>\n",
    "©2020 Valve Corporation. Steam and the Steam logo are trademarks and/or registered trademarks of Valve Corporation in the U.S. and/or other countries.<br>\n",
    "©CAPCOM U.S.A., INC. 2016, 2018 ALL RIGHTS RESERVED.\n",
    "</footer>\n",
    "</body>\n",
    "</html>\"\"\")\n",
    "\n",
    "f.close()"
   ]
  },
  {
   "cell_type": "code",
   "execution_count": null,
   "metadata": {},
   "outputs": [],
   "source": []
  },
  {
   "cell_type": "code",
   "execution_count": 108,
   "metadata": {},
   "outputs": [
    {
     "ename": "NameError",
     "evalue": "name 's' is not defined",
     "output_type": "error",
     "traceback": [
      "\u001b[1;31m---------------------------------------------------------------------------\u001b[0m",
      "\u001b[1;31mNameError\u001b[0m                                 Traceback (most recent call last)",
      "\u001b[1;32m<ipython-input-108-c90c40063ccd>\u001b[0m in \u001b[0;36m<module>\u001b[1;34m\u001b[0m\n\u001b[0;32m      1\u001b[0m \u001b[1;33m\u001b[0m\u001b[0m\n\u001b[1;32m----> 2\u001b[1;33m \u001b[0mlen\u001b[0m\u001b[1;33m(\u001b[0m\u001b[0ms\u001b[0m\u001b[1;33m)\u001b[0m\u001b[1;33m\u001b[0m\u001b[1;33m\u001b[0m\u001b[0m\n\u001b[0m",
      "\u001b[1;31mNameError\u001b[0m: name 's' is not defined"
     ]
    }
   ],
   "source": [
    "\n",
    "len(s)"
   ]
  },
  {
   "cell_type": "code",
   "execution_count": null,
   "metadata": {},
   "outputs": [],
   "source": []
  }
 ],
 "metadata": {
  "celltoolbar": "Raw Cell Format",
  "kernelspec": {
   "display_name": "Python 3",
   "language": "python",
   "name": "python3"
  },
  "language_info": {
   "codemirror_mode": {
    "name": "ipython",
    "version": 3
   },
   "file_extension": ".py",
   "mimetype": "text/x-python",
   "name": "python",
   "nbconvert_exporter": "python",
   "pygments_lexer": "ipython3",
   "version": "3.7.3-final"
  }
 },
 "nbformat": 4,
 "nbformat_minor": 2
}